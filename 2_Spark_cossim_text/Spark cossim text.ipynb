{
 "cells": [
  {
   "cell_type": "code",
   "execution_count": 1,
   "metadata": {
    "ExecuteTime": {
     "end_time": "2020-12-21T12:54:24.455854Z",
     "start_time": "2020-12-21T12:54:24.451182Z"
    }
   },
   "outputs": [],
   "source": [
    "import os\n",
    "import sys\n",
    "os.environ[\"PYSPARK_PYTHON\"]='/opt/anaconda/envs/bd9/bin/python'\n",
    "os.environ[\"SPARK_HOME\"]='/usr/hdp/current/spark2-client'\n",
    "os.environ[\"PYSPARK_SUBMIT_ARGS\"]='--num-executors 3 pyspark-shell'\n",
    "\n",
    "spark_home = os.environ.get('SPARK_HOME', None)\n",
    "\n",
    "sys.path.insert(0, os.path.join(spark_home, 'python'))\n",
    "sys.path.insert(0, os.path.join(spark_home, 'python/lib/py4j-0.10.7-src.zip'))"
   ]
  },
  {
   "cell_type": "code",
   "execution_count": 2,
   "metadata": {
    "ExecuteTime": {
     "end_time": "2020-12-21T12:54:24.665403Z",
     "start_time": "2020-12-21T12:54:24.465606Z"
    }
   },
   "outputs": [],
   "source": [
    "from pyspark import SparkConf\n",
    "from pyspark.sql import SparkSession\n",
    "from pyspark.sql.functions import col, pandas_udf, split, lower, udf\n",
    "from pyspark.sql import functions as F\n",
    "from pyspark.sql.types import LongType, StructType, StructField, IntegerType, StringType, DoubleType"
   ]
  },
  {
   "cell_type": "code",
   "execution_count": 3,
   "metadata": {
    "ExecuteTime": {
     "end_time": "2020-12-21T12:54:39.195630Z",
     "start_time": "2020-12-21T12:54:24.668125Z"
    }
   },
   "outputs": [],
   "source": [
    "conf = SparkConf()\n",
    "\n",
    "spark = SparkSession.builder.config(conf=conf).appName(\"Spark cossim text books\").getOrCreate()"
   ]
  },
  {
   "cell_type": "code",
   "execution_count": 4,
   "metadata": {
    "ExecuteTime": {
     "end_time": "2020-12-21T12:54:39.213741Z",
     "start_time": "2020-12-21T12:54:39.198570Z"
    }
   },
   "outputs": [
    {
     "data": {
      "text/html": [
       "\n",
       "            <div>\n",
       "                <p><b>SparkSession - in-memory</b></p>\n",
       "                \n",
       "        <div>\n",
       "            <p><b>SparkContext</b></p>\n",
       "\n",
       "            <p><a href=\"http://bd-master.newprolab.com:4040\">Spark UI</a></p>\n",
       "\n",
       "            <dl>\n",
       "              <dt>Version</dt>\n",
       "                <dd><code>v2.4.7</code></dd>\n",
       "              <dt>Master</dt>\n",
       "                <dd><code>yarn</code></dd>\n",
       "              <dt>AppName</dt>\n",
       "                <dd><code>Spark cossim text books</code></dd>\n",
       "            </dl>\n",
       "        </div>\n",
       "        \n",
       "            </div>\n",
       "        "
      ],
      "text/plain": [
       "<pyspark.sql.session.SparkSession at 0x7f4258be1dd8>"
      ]
     },
     "execution_count": 4,
     "metadata": {},
     "output_type": "execute_result"
    }
   ],
   "source": [
    "spark"
   ]
  },
  {
   "cell_type": "markdown",
   "metadata": {},
   "source": [
    "## Постановка задачи\n",
    "Имея текстовые статьи найти 10 похожих по содержанию для\n",
    "courses_list = [16871, 12234, 9029, 18030, 8170, 1200]\n"
   ]
  },
  {
   "cell_type": "markdown",
   "metadata": {},
   "source": [
    "## Грузим датасеты"
   ]
  },
  {
   "cell_type": "code",
   "execution_count": 5,
   "metadata": {
    "ExecuteTime": {
     "end_time": "2020-12-21T12:54:41.607637Z",
     "start_time": "2020-12-21T12:54:39.216015Z"
    }
   },
   "outputs": [
    {
     "name": "stdout",
     "output_type": "stream",
     "text": [
      "-rw-r--r--   2 hdfs hdfs     66.3 M 2020-09-30 12:22 /labs/lab07data/DO_record_per_line.json\r\n"
     ]
    }
   ],
   "source": [
    "# наш датасет в HDFS 66.3 мб\n",
    "!hdfs dfs -ls -h /labs/lab07data/DO_record_per_line.json"
   ]
  },
  {
   "cell_type": "code",
   "execution_count": 6,
   "metadata": {
    "ExecuteTime": {
     "end_time": "2020-12-21T12:54:44.106095Z",
     "start_time": "2020-12-21T12:54:41.610695Z"
    }
   },
   "outputs": [
    {
     "name": "stdout",
     "output_type": "stream",
     "text": [
      "{\"lang\": \"en\", \"name\": \"Accounting Cycle: The Foundation of Business Measurement and Reporting\", \"cat\": \"3/business_management|6/economics_finance\", \"provider\": \"Canvas Network\", \"id\": 4, \"desc\": \"This course introduces the basic financial statements used by most businesses, as well as the essential tools used to prepare them. This course will serve as a resource to help business students succeed in their upcoming university-level accounting classes, and as a refresher for upper division accounting students who are struggling to recall elementary concepts essential to more advanced accounting topics. Business owners will also benefit from this class by gaining essential skills necessary to organize and manage information pertinent to operating their business. At the conclusion of the class, students will understand the balance sheet, income statement, and cash flow statement. They will be able to differentiate between cash basis and accrual basis techniques, and know when each is appropriate. They\\u2019ll also understand the accounting equation, how to journalize and post transactions, how to adjust and close accounts, and how to prepare key financial reports. All material for this class is written and delivered by the professor, and can be previewed here. Students must have access to a spreadsheet program to participate.\"}\r\n",
      "cat: Unable to write to output stream.\r\n"
     ]
    }
   ],
   "source": [
    "!hdfs dfs -cat /labs/lab07data/DO_record_per_line.json | head -n1"
   ]
  },
  {
   "cell_type": "code",
   "execution_count": 7,
   "metadata": {
    "ExecuteTime": {
     "end_time": "2020-12-21T12:54:44.113667Z",
     "start_time": "2020-12-21T12:54:44.108751Z"
    }
   },
   "outputs": [],
   "source": [
    "df_schema = StructType(fields=[\n",
    "    StructField(\"lang\", StringType()),\n",
    "    StructField(\"name\", StringType()),\n",
    "    StructField(\"cat\", StringType()),\n",
    "    StructField(\"provider\", StringType()),\n",
    "    StructField(\"id\", IntegerType()),\n",
    "    StructField(\"desc\", StringType()),\n",
    "])"
   ]
  },
  {
   "cell_type": "code",
   "execution_count": 8,
   "metadata": {
    "ExecuteTime": {
     "end_time": "2020-12-21T12:54:44.120678Z",
     "start_time": "2020-12-21T12:54:44.115638Z"
    }
   },
   "outputs": [],
   "source": [
    "df_dir = '/labs/lab07data/DO_record_per_line.json'\n",
    "\n",
    "#  наши таргеты\n",
    "courses_list = [16871, 12234, 9029, 18030, 8170, 1200]\n",
    "\n",
    "\n",
    "# «Похожесть» – в данном случае синоним «корреляции» интересов и может считаться множеством \n",
    "# способов (помимо корреляции Пирсона, есть еще косинусное расстояние, \n",
    "# есть расстояние Жаккара, расстояние Хэмминга и пр.)\n",
    "\n",
    "# Будем использовать косинусное расстояние (косинусную близость)"
   ]
  },
  {
   "cell_type": "code",
   "execution_count": 9,
   "metadata": {
    "ExecuteTime": {
     "end_time": "2020-12-21T12:54:44.884875Z",
     "start_time": "2020-12-21T12:54:44.122596Z"
    }
   },
   "outputs": [
    {
     "name": "stdout",
     "output_type": "stream",
     "text": [
      "root\n",
      " |-- lang: string (nullable = true)\n",
      " |-- name: string (nullable = true)\n",
      " |-- cat: string (nullable = true)\n",
      " |-- provider: string (nullable = true)\n",
      " |-- id: integer (nullable = true)\n",
      " |-- desc: string (nullable = true)\n",
      "\n"
     ]
    }
   ],
   "source": [
    "df = spark.read.json(df_dir, schema=df_schema).cache()\n",
    "df.printSchema()"
   ]
  },
  {
   "cell_type": "code",
   "execution_count": 10,
   "metadata": {
    "ExecuteTime": {
     "end_time": "2020-12-21T12:54:50.723057Z",
     "start_time": "2020-12-21T12:54:44.886978Z"
    }
   },
   "outputs": [
    {
     "name": "stdout",
     "output_type": "stream",
     "text": [
      "-RECORD 0----------------------------------------------------------------------------------------------------------------------------------------------------------------------------------------------------------------------------------------------------------------------------------------------------------------------------------------------------------------------------------------------------------------------------------------------------------------------------------------------------------------------------------------------------------------------------------------------------------------------------------------------------------------------------------------------------------------------------------------------------------------------------------------------------------------------------------------------------------------------------------------------------------------------------------------------------------------------------------------------------------------------------------------------------------------------------------------------------------------------------------------------------------------------------------------------------------------------------------------------------------------------------------------------------------------------------------------------------------------------------------------------------------------------------------------\n",
      " lang     | ru                                                                                                                                                                                                                                                                                                                                                                                                                                                                                                                                                                                                                                                                                                                                                                                                                                                                                                                                                                                                                                                                                                                                                                                                                                                                                                                                                                                                                                   \n",
      " name     | Разработка приложений для Modern UI: Windows 8                                                                                                                                                                                                                                                                                                                                                                                                                                                                                                                                                                                                                                                                                                                                                                                                                                                                                                                                                                                                                                                                                                                                                                                                                                                                                                                                                                                       \n",
      " cat      | 5/computer_science                                                                                                                                                                                                                                                                                                                                                                                                                                                                                                                                                                                                                                                                                                                                                                                                                                                                                                                                                                                                                                                                                                                                                                                                                                                                                                                                                                                                                   \n",
      " provider | Intuit                                                                                                                                                                                                                                                                                                                                                                                                                                                                                                                                                                                                                                                                                                                                                                                                                                                                                                                                                                                                                                                                                                                                                                                                                                                                                                                                                                                                                               \n",
      " id       | 1302                                                                                                                                                                                                                                                                                                                                                                                                                                                                                                                                                                                                                                                                                                                                                                                                                                                                                                                                                                                                                                                                                                                                                                                                                                                                                                                                                                                                                                 \n",
      " desc     | Курс знакомит с инструментами и ресурсами Microsoft для разработки приложений для Windows Store.                                                                                                                                                                                                                                                                                                                                                                                                                                                                                                                                                                                                                                                                                                                                                                                                                                                                                                                                                                                                                                                                                                                                                                                                                                                                                                                                     \n",
      "-RECORD 1----------------------------------------------------------------------------------------------------------------------------------------------------------------------------------------------------------------------------------------------------------------------------------------------------------------------------------------------------------------------------------------------------------------------------------------------------------------------------------------------------------------------------------------------------------------------------------------------------------------------------------------------------------------------------------------------------------------------------------------------------------------------------------------------------------------------------------------------------------------------------------------------------------------------------------------------------------------------------------------------------------------------------------------------------------------------------------------------------------------------------------------------------------------------------------------------------------------------------------------------------------------------------------------------------------------------------------------------------------------------------------------------------------------------------------------\n",
      " lang     | it                                                                                                                                                                                                                                                                                                                                                                                                                                                                                                                                                                                                                                                                                                                                                                                                                                                                                                                                                                                                                                                                                                                                                                                                                                                                                                                                                                                                                                   \n",
      " name     | 3ds max 2014 Populate Architettura Italian                                                                                                                                                                                                                                                                                                                                                                                                                                                                                                                                                                                                                                                                                                                                                                                                                                                                                                                                                                                                                                                                                                                                                                                                                                                                                                                                                                                           \n",
      " cat      | 1/arts_music_film                                                                                                                                                                                                                                                                                                                                                                                                                                                                                                                                                                                                                                                                                                                                                                                                                                                                                                                                                                                                                                                                                                                                                                                                                                                                                                                                                                                                                    \n",
      " provider | Udemy                                                                                                                                                                                                                                                                                                                                                                                                                                                                                                                                                                                                                                                                                                                                                                                                                                                                                                                                                                                                                                                                                                                                                                                                                                                                                                                                                                                                                                \n",
      " id       | 8900                                                                                                                                                                                                                                                                                                                                                                                                                                                                                                                                                                                                                                                                                                                                                                                                                                                                                                                                                                                                                                                                                                                                                                                                                                                                                                                                                                                                                                 \n",
      " desc     | \n",
      "Video Master Class 3dsmax 2014 Populate in Architettura\n",
      "In questo Video Master class dedicato a 3dsmax 2014 sono illustrati i procedimenti di zione dei personaggi\n",
      "con People in visualizzazione architettonica. Argomenti: Gestione del nuovo Tools People per zione e animazione dei personaggi in visualizzazioni architettoniche.\n",
      "Gestione dei flussi di personaggi e loro modifica, impostazioni delle\n",
      "preferenze di etnia, sesso, direzione; gestione dei flussi incrociati.\n",
      "Impostazioni di gruppi di persone e modifica dello spazio occupato\n",
      "dai personaggi in relazione alla superficie architettonica, le tecniche di addizione e sottrazione boleane delle folle.\n",
      "Suggerimenti per gestione degli snap e posizionamento in precisione\n",
      "dei Flussi e delle Aree Idle.\n",
      "Gestione delle nuove Rampe singole e multiple.\n",
      "zione dei personaggi a bassa ed alta risoluzione.\n",
      "Gestione dei materiali e modifica della visualizzazione in viewport.\n",
      "Esempi di rendering statico in mental ray 3.11\n",
      "Esempi di rendering Animati in mental ray 3.11\n",
      "Gestione avanzata del final ghater e impostazioni di Rendering.\n",
      "Salvataggio delle animazioni finali nel nuovo Ram Player.\n",
      "Allegate alle lezioni sono disponibili i file 3dsmax 2014 Sono presenti 16 video risoluzione 1280 x 800\n",
      "in modalità smart focus zoom nelle zone di maggior importanza Il master ha una durata di 2 ore, 10 minuti lingua: italiano. Category:\n",
      "Design  \n",
      "only showing top 2 rows\n",
      "\n"
     ]
    }
   ],
   "source": [
    "# df.show(2, vertical=True, truncate=False)"
   ]
  },
  {
   "cell_type": "markdown",
   "metadata": {
    "ExecuteTime": {
     "end_time": "2020-12-21T12:46:11.123611Z",
     "start_time": "2020-12-21T12:46:11.120892Z"
    }
   },
   "source": [
    "## Попробуем для content-based similarity  HashingTF, CountVectorizer"
   ]
  },
  {
   "cell_type": "code",
   "execution_count": 11,
   "metadata": {
    "ExecuteTime": {
     "end_time": "2020-12-21T12:54:50.859634Z",
     "start_time": "2020-12-21T12:54:50.725649Z"
    }
   },
   "outputs": [],
   "source": [
    "from pyspark.ml.feature import CountVectorizer, HashingTF, IDF, StopWordsRemover\n",
    "# from pyspark.ml.feature import StopWordsRemover"
   ]
  },
  {
   "cell_type": "code",
   "execution_count": 12,
   "metadata": {
    "ExecuteTime": {
     "end_time": "2020-12-21T12:55:07.879882Z",
     "start_time": "2020-12-21T12:55:07.250585Z"
    }
   },
   "outputs": [
    {
     "name": "stdout",
     "output_type": "stream",
     "text": [
      "CPU times: user 46.3 ms, sys: 13.2 ms, total: 59.5 ms\n",
      "Wall time: 623 ms\n"
     ]
    }
   ],
   "source": [
    "%%time\n",
    "# самодельный токенайзер, сильно не мудрил, можно было использовать RegexTokenizer - было бы проще\n",
    "corpus_regexp = r'[\\t|\\n|\\$|\\:|\\*|\\!|\\?|\\#|\\:|\\/|\\\\|,|\\.|\\(|\\)|\\[|\\]|\\{|\\}|\\\"|\\'|\\$|\\-|\\+|\\”|\\“|\\%|\\¡|\\¿|\\&|\\;|\\s]'\n",
    "df = df.withColumn('desc_tmp', lower(F.col('desc')))\n",
    "df = df.withColumn('desc_tmp', F.split(F.col('desc_tmp'), corpus_regexp))\n",
    "remover = StopWordsRemover(inputCol=\"desc_tmp\", outputCol=\"corpus\", stopWords=[\"\"])\n",
    "df = remover.transform(df)\n",
    "# df = df['id', 'name', 'corpus']\n",
    "df = df['id', 'name', 'lang', 'desc', 'corpus']\n",
    "# df.show(3, vertical=True, truncate=False)"
   ]
  },
  {
   "cell_type": "code",
   "execution_count": 13,
   "metadata": {
    "ExecuteTime": {
     "end_time": "2020-12-21T12:55:29.318886Z",
     "start_time": "2020-12-21T12:55:09.770970Z"
    }
   },
   "outputs": [
    {
     "name": "stdout",
     "output_type": "stream",
     "text": [
      "CPU times: user 25.3 ms, sys: 9 µs, total: 25.3 ms\n",
      "Wall time: 19.5 s\n"
     ]
    }
   ],
   "source": [
    "%%time\n",
    "# векторайзер. Так как объем данных не большой и ресурсы позволяют, берем обычный CountVectorizer\n",
    "# но можно и hashingTF использовать, он быстрее.\n",
    "\n",
    "# hashingTF = HashingTF(inputCol=\"corpus\", outputCol=\"tf\", numFeatures=10000)\n",
    "# tf = hashingTF.transform(df)\n",
    "\n",
    "countTF = CountVectorizer(inputCol=\"corpus\", outputCol=\"tf\").fit(df)\n",
    "tf = countTF.transform(df)"
   ]
  },
  {
   "cell_type": "code",
   "execution_count": 14,
   "metadata": {
    "ExecuteTime": {
     "end_time": "2020-12-21T12:55:33.175551Z",
     "start_time": "2020-12-21T12:55:33.171917Z"
    }
   },
   "outputs": [],
   "source": [
    "# tf.show(3, vertical=True, truncate=False)"
   ]
  },
  {
   "cell_type": "code",
   "execution_count": 15,
   "metadata": {
    "ExecuteTime": {
     "end_time": "2020-12-21T12:55:48.911385Z",
     "start_time": "2020-12-21T12:55:34.290863Z"
    }
   },
   "outputs": [
    {
     "name": "stdout",
     "output_type": "stream",
     "text": [
      "CPU times: user 11.1 ms, sys: 214 µs, total: 11.3 ms\n",
      "Wall time: 14.6 s\n"
     ]
    }
   ],
   "source": [
    "%%time\n",
    "# idf\n",
    "idf = IDF(inputCol=\"tf\", outputCol=\"raw_feature\").fit(tf)\n",
    "tfidf = idf.transform(tf)"
   ]
  },
  {
   "cell_type": "code",
   "execution_count": 16,
   "metadata": {
    "ExecuteTime": {
     "end_time": "2020-12-21T12:55:53.653621Z",
     "start_time": "2020-12-21T12:55:53.650722Z"
    }
   },
   "outputs": [],
   "source": [
    "# tfidf.show(3, vertical=True, truncate=False)"
   ]
  },
  {
   "cell_type": "code",
   "execution_count": 17,
   "metadata": {
    "ExecuteTime": {
     "end_time": "2020-12-21T12:55:54.677302Z",
     "start_time": "2020-12-21T12:55:54.651037Z"
    }
   },
   "outputs": [
    {
     "name": "stdout",
     "output_type": "stream",
     "text": [
      "CPU times: user 5.84 ms, sys: 956 µs, total: 6.8 ms\n",
      "Wall time: 21.8 ms\n"
     ]
    }
   ],
   "source": [
    "%%time\n",
    "# нормализуем\n",
    "from pyspark.ml.feature import Normalizer\n",
    "normalizer = Normalizer(inputCol=\"raw_feature\", outputCol=\"feature\")\n",
    "data = normalizer.transform(tfidf)"
   ]
  },
  {
   "cell_type": "code",
   "execution_count": 18,
   "metadata": {
    "ExecuteTime": {
     "end_time": "2020-12-21T12:57:06.874907Z",
     "start_time": "2020-12-21T12:57:05.651306Z"
    }
   },
   "outputs": [
    {
     "name": "stdout",
     "output_type": "stream",
     "text": [
      "-RECORD 0---------------------------------------------------------------------------------------------------------------------------------------------------------------------------------------------------------------------------------------------------------------------------------------------------------------------------------------------------------------------------------------------------------------------------------------------------------------------------------------------------------------------------------------------------------------------------------------------------------------------------------------------------------------------------------------------------------------------------------------------------------------------------------------------------------------------------------------------------------------------------------------------------------------------------------------------------------------------------------------------------------------------------------------------------------------------------------------------------------------------------------------------------------------------------------------------------------------------------------------------------------------------------------------------------------------------------------------------------------------------------------------------------------------------------------------------------------------------------------------------------------------------------------------------------------------------------------------------------------------------------------------------------------------------------------------------------------------------------------------------------------------------------------------------------------------------------------------------------------------------------------------------------------------------------------------------------------------------------------\n",
      " id      | 2675                                                                                                                                                                                                                                                                                                                                                                                                                                                                                                                                                                                                                                                                                                                                                                                                                                                                                                                                                                                                                                                                                                                                                                                                                                                                                                                                                                                                                                                                                                                                                                                                                                                                                                                                                                                                                                                                                                                                                                           \n",
      " feature | (262144,[0,1,2,3,4,6,8,9,11,12,13,19,21,24,27,29,31,33,45,50,109,123,125,145,152,187,223,226,351,429,451,466,566,676,735,785,839,1067,1115,1196,1269,1323,1344,1362,1654,1768,1777,1975,2336,2429,3282,3867,4196,4437,4611,4900,5286,5336,5345,6155,6204,7517,8865,9510,15970,16175,17036,17120,19778,21185,21928,27712,28451,40468,114456,134034,232253],[0.028268905712859373,0.014346324394448232,0.0072840502205296295,0.025570840935428142,0.005928551836885708,0.020584948614390294,0.007235114620361124,0.006808284162188327,0.00899926471706777,0.009545821587865929,0.036019031598744464,0.04029871559817494,0.018790128667868593,0.014795035728839842,0.014767540410965663,0.03190059730310916,0.017630758727195207,0.01531684922105657,0.04824679335929818,0.020778974453176877,0.03316923389535339,0.029151670588192527,0.029865105391746888,0.03246547723299647,0.043146376246991344,0.041652403301131964,0.0372121099420596,0.03770746565035573,0.044533290175771956,0.04546449529410743,0.04747105421955832,0.05438645883132826,0.053761651794255766,0.055543828182320835,0.06107093760419432,0.05720000320006514,0.05867228362969858,0.06569896623526851,0.35399859042265464,0.06447780758439375,0.0670968960576126,0.06408893684090138,0.07341674413718553,0.07069432993505738,0.06812505220218361,0.08016715824725563,0.15136806393854849,0.4833557638741306,0.07754832226627212,0.07770429728563263,0.08915069568871921,0.09150811092709997,0.09094384770510784,0.09761987431502088,0.09577110553530256,0.0993248138128959,0.0993248138128959,0.09987036264928222,0.09761987431502088,0.10914443353393534,0.10378587908814409,0.11184932694165681,0.3478457521669094,0.11952115001816183,0.12811128902312882,0.13225922043777968,0.1272112417836053,0.1334698434689201,0.13225922043777968,0.14122271553081597,0.1347702215506959,0.14563254843641246,0.13937394675109765,0.14833744184413394,0.16050014681162633,0.16761487312494427,0.16761487312494427]) \n",
      "-RECORD 1---------------------------------------------------------------------------------------------------------------------------------------------------------------------------------------------------------------------------------------------------------------------------------------------------------------------------------------------------------------------------------------------------------------------------------------------------------------------------------------------------------------------------------------------------------------------------------------------------------------------------------------------------------------------------------------------------------------------------------------------------------------------------------------------------------------------------------------------------------------------------------------------------------------------------------------------------------------------------------------------------------------------------------------------------------------------------------------------------------------------------------------------------------------------------------------------------------------------------------------------------------------------------------------------------------------------------------------------------------------------------------------------------------------------------------------------------------------------------------------------------------------------------------------------------------------------------------------------------------------------------------------------------------------------------------------------------------------------------------------------------------------------------------------------------------------------------------------------------------------------------------------------------------------------------------------------------------------------------------\n",
      " id      | 2836                                                                                                                                                                                                                                                                                                                                                                                                                                                                                                                                                                                                                                                                                                                                                                                                                                                                                                                                                                                                                                                                                                                                                                                                                                                                                                                                                                                                                                                                                                                                                                                                                                                                                                                                                                                                                                                                                                                                                                           \n",
      " feature | (262144,[0,2,3,4,6,9,10,13,15,16,17,19,21,24,29,45,80,97,169,184,216,265,427,539,794,898,900,1178,1287,1773,1944,2254,2296,2404,4702,5905,9858,12289,17107,20940,27203,27290],[0.014388907628502225,0.004325522230115094,0.01822182509349406,0.014082320679537654,0.016298744085420452,0.00808599161205257,0.019789911269760707,0.02851913741587919,0.02745295485470893,0.011676717171658356,0.014058058079812972,0.015953852127826865,0.011158231588040697,0.03514322609148106,0.01894368361157663,0.057301246116954786,0.03155084346505823,0.032560573342595524,0.039774943658495376,0.044949709964900136,0.05489491130183634,0.04895895818881789,0.06127531365392316,0.060627239014570025,0.07563672388053602,0.07098080539564357,0.07371903851073541,0.07533207875176515,0.07831220346639434,0.19292427554348504,0.08999847023548972,0.09593830094182047,0.09044787040302166,0.1941547782043345,0.11068129610208366,0.11754402742030685,0.1346533649095702,0.5705398855839489,0.6283209816746281,0.15573525455813453,0.16354391295490986,0.17018052858080432])                                                                                                                                                                                                                                                                                                                                                                                                                                                                                                                                                                                                                                                                                                                                                                                                                                                                                                             \n",
      "-RECORD 2---------------------------------------------------------------------------------------------------------------------------------------------------------------------------------------------------------------------------------------------------------------------------------------------------------------------------------------------------------------------------------------------------------------------------------------------------------------------------------------------------------------------------------------------------------------------------------------------------------------------------------------------------------------------------------------------------------------------------------------------------------------------------------------------------------------------------------------------------------------------------------------------------------------------------------------------------------------------------------------------------------------------------------------------------------------------------------------------------------------------------------------------------------------------------------------------------------------------------------------------------------------------------------------------------------------------------------------------------------------------------------------------------------------------------------------------------------------------------------------------------------------------------------------------------------------------------------------------------------------------------------------------------------------------------------------------------------------------------------------------------------------------------------------------------------------------------------------------------------------------------------------------------------------------------------------------------------------------------------\n",
      " id      | 6984                                                                                                                                                                                                                                                                                                                                                                                                                                                                                                                                                                                                                                                                                                                                                                                                                                                                                                                                                                                                                                                                                                                                                                                                                                                                                                                                                                                                                                                                                                                                                                                                                                                                                                                                                                                                                                                                                                                                                                           \n",
      " feature | (262144,[0,1,2,3,5,6,12,23,38,77,153,173,177,178,228,259,271,276,278,607,712,845,1556,4504,8732,31968,35267],[0.024419554246841793,0.008674958813264508,0.011011328393162805,0.015462217766469846,0.03279173925486724,0.02074556712148826,0.057721829533949456,0.04796766844712366,0.058758635395735295,0.07376846307493887,0.0977028480038336,0.1120381837269278,0.10849957282986225,0.11041276511795217,0.147230910611865,0.29659923893194495,0.13584809079387725,0.1434398720180071,0.12210769773105558,0.15552491210735428,0.1915606449333196,0.18260165849296728,0.27915086073623185,0.29563823362704733,0.3534282662038023,0.43322253051405624,0.44848463030741786])                                                                                                                                                                                                                                                                                                                                                                                                                                                                                                                                                                                                                                                                                                                                                                                                                                                                                                                                                                                                                                                                                                                                                                                                                                                                                                     \n",
      "only showing top 3 rows\n",
      "\n",
      "CPU times: user 3.39 ms, sys: 559 µs, total: 3.95 ms\n",
      "Wall time: 1.22 s\n"
     ]
    }
   ],
   "source": [
    "%%time\n",
    "# Получили фичи\n",
    "data.select('id', 'feature').show(3, vertical=True, truncate=False)"
   ]
  },
  {
   "cell_type": "markdown",
   "metadata": {},
   "source": [
    "## Считаем косинусную близость для текстов по  спарс векторам, в обычной жизни это очень долго для прода. Но для холодного старта может подойти."
   ]
  },
  {
   "cell_type": "code",
   "execution_count": 20,
   "metadata": {
    "ExecuteTime": {
     "end_time": "2020-12-21T12:57:46.762802Z",
     "start_time": "2020-12-21T12:57:46.330425Z"
    }
   },
   "outputs": [
    {
     "name": "stdout",
     "output_type": "stream",
     "text": [
      "CPU times: user 18.7 ms, sys: 1.07 ms, total: 19.8 ms\n",
      "Wall time: 418 ms\n"
     ]
    }
   ],
   "source": [
    "%%time\n",
    "# задали udf и матрицу cos_sim, лениво вычисления будут ниже...\n",
    "@udf\n",
    "def sim_cos(v1,v2):\n",
    "    try:\n",
    "        p = 2\n",
    "        return float(v1.dot(v2))/float(v1.norm(p)*v2.norm(p))\n",
    "    except:\n",
    "        return 0\n",
    "\n",
    "# строим лениво квадратную матрицу таргет * на все id\n",
    "# очень дорогая операция если делать за раз... Но т.к. размер малый то можно :)\n",
    "cossimmatrix = data.alias(\"i\").join(data.alias(\"j\"), F.col(\"i.id\") != F.col(\"j.id\"))\\\n",
    "    .select(\n",
    "        F.col(\"i.id\").alias(\"id\"),\n",
    "        F.col(\"i.name\").alias(\"i_name\"),\n",
    "        F.col(\"i.lang\").alias(\"i_lang\"),\n",
    "        F.col(\"i.desc\").alias(\"i_desc\"),\n",
    "        F.col(\"i.id\").alias(\"i\"), \n",
    "        F.col(\"j.id\").alias(\"j\"),\n",
    "        sim_cos(\"i.feature\", \"j.feature\").cast(\"float\").alias(\"sim_cosine\"),\n",
    "        F.col(\"j.name\").alias(\"j_name\"),\n",
    "        F.col(\"j.lang\").alias(\"j_lang\"),\n",
    "        F.col(\"j.desc\").alias(\"j_desc\"))\\\n",
    "    .filter(F.col('id').isin(courses_list))\\\n",
    "    .sort(\"i\", \"j\")\n"
   ]
  },
  {
   "cell_type": "code",
   "execution_count": 21,
   "metadata": {
    "ExecuteTime": {
     "end_time": "2020-12-21T12:59:01.499905Z",
     "start_time": "2020-12-21T12:58:16.731098Z"
    }
   },
   "outputs": [
    {
     "name": "stdout",
     "output_type": "stream",
     "text": [
      "-RECORD 0-------------------------------------------------------------------------------------------------------------------------------------------------------------------------------------------------------------------------------------------------------------------------------------------------------------------------------------------------------------------------------------------------------------------------------------------------------------------------------------------------------------------------------------------------------------------------------------------------------------------------------------------------------------------------------------------------------------------------------------------------------------------------------------------------------------------------------------------------------------------------------------------------------------------------------------------------------------------------------------------------------------------------------------------------------------------------------------------------------------------------------------------------------------------------------------------\n",
      " id         | 1200                                                                                                                                                                                                                                                                                                                                                                                                                                                                                                                                                                                                                                                                                                                                                                                                                                                                                                                                                                                                                                                                                                                                                                                  \n",
      " i_name     | Современные операционные системы                                                                                                                                                                                                                                                                                                                                                                                                                                                                                                                                                                                                                                                                                                                                                                                                                                                                                                                                                                                                                                                                                                                                                      \n",
      " i_lang     | ru                                                                                                                                                                                                                                                                                                                                                                                                                                                                                                                                                                                                                                                                                                                                                                                                                                                                                                                                                                                                                                                                                                                                                                                    \n",
      " i_desc     | В курсе представлены понятия и положения теории операционных систем. Даны основные определения и классификации, рассмотрены интерфейсы операционных систем, организация вычислительного процесса, вопросы управления памятью и устройствами компьютера, организации файловых систем. Уделено внимание совместимости операционных сред и средствам ее обеспечения, в том числе виртуальным машинам. Изложена история происхождения двух наиболее распространенных представителей этого класса программных систем: семейства UNIX/Linux и компании Microsoft. Рассмотрены стандарты и лицензии на программные продукты.                                                                                                                                                                                                                                                                                                                                                                                                                                                                                                                                                                 \n",
      " i          | 1200                                                                                                                                                                                                                                                                                                                                                                                                                                                                                                                                                                                                                                                                                                                                                                                                                                                                                                                                                                                                                                                                                                                                                                                  \n",
      " j          | 4                                                                                                                                                                                                                                                                                                                                                                                                                                                                                                                                                                                                                                                                                                                                                                                                                                                                                                                                                                                                                                                                                                                                                                                     \n",
      " sim_cosine | 0.0                                                                                                                                                                                                                                                                                                                                                                                                                                                                                                                                                                                                                                                                                                                                                                                                                                                                                                                                                                                                                                                                                                                                                                                   \n",
      " j_name     | Accounting Cycle: The Foundation of Business Measurement and Reporting                                                                                                                                                                                                                                                                                                                                                                                                                                                                                                                                                                                                                                                                                                                                                                                                                                                                                                                                                                                                                                                                                                                \n",
      " j_lang     | en                                                                                                                                                                                                                                                                                                                                                                                                                                                                                                                                                                                                                                                                                                                                                                                                                                                                                                                                                                                                                                                                                                                                                                                    \n",
      " j_desc     | This course introduces the basic financial statements used by most businesses, as well as the essential tools used to prepare them. This course will serve as a resource to help business students succeed in their upcoming university-level accounting classes, and as a refresher for upper division accounting students who are struggling to recall elementary concepts essential to more advanced accounting topics. Business owners will also benefit from this class by gaining essential skills necessary to organize and manage information pertinent to operating their business. At the conclusion of the class, students will understand the balance sheet, income statement, and cash flow statement. They will be able to differentiate between cash basis and accrual basis techniques, and know when each is appropriate. They’ll also understand the accounting equation, how to journalize and post transactions, how to adjust and close accounts, and how to prepare key financial reports. All material for this class is written and delivered by the professor, and can be previewed here. Students must have access to a spreadsheet program to participate. \n",
      "-RECORD 1-------------------------------------------------------------------------------------------------------------------------------------------------------------------------------------------------------------------------------------------------------------------------------------------------------------------------------------------------------------------------------------------------------------------------------------------------------------------------------------------------------------------------------------------------------------------------------------------------------------------------------------------------------------------------------------------------------------------------------------------------------------------------------------------------------------------------------------------------------------------------------------------------------------------------------------------------------------------------------------------------------------------------------------------------------------------------------------------------------------------------------------------------------------------------------------------\n",
      " id         | 1200                                                                                                                                                                                                                                                                                                                                                                                                                                                                                                                                                                                                                                                                                                                                                                                                                                                                                                                                                                                                                                                                                                                                                                                  \n",
      " i_name     | Современные операционные системы                                                                                                                                                                                                                                                                                                                                                                                                                                                                                                                                                                                                                                                                                                                                                                                                                                                                                                                                                                                                                                                                                                                                                      \n",
      " i_lang     | ru                                                                                                                                                                                                                                                                                                                                                                                                                                                                                                                                                                                                                                                                                                                                                                                                                                                                                                                                                                                                                                                                                                                                                                                    \n",
      " i_desc     | В курсе представлены понятия и положения теории операционных систем. Даны основные определения и классификации, рассмотрены интерфейсы операционных систем, организация вычислительного процесса, вопросы управления памятью и устройствами компьютера, организации файловых систем. Уделено внимание совместимости операционных сред и средствам ее обеспечения, в том числе виртуальным машинам. Изложена история происхождения двух наиболее распространенных представителей этого класса программных систем: семейства UNIX/Linux и компании Microsoft. Рассмотрены стандарты и лицензии на программные продукты.                                                                                                                                                                                                                                                                                                                                                                                                                                                                                                                                                                 \n",
      " i          | 1200                                                                                                                                                                                                                                                                                                                                                                                                                                                                                                                                                                                                                                                                                                                                                                                                                                                                                                                                                                                                                                                                                                                                                                                  \n",
      " j          | 5                                                                                                                                                                                                                                                                                                                                                                                                                                                                                                                                                                                                                                                                                                                                                                                                                                                                                                                                                                                                                                                                                                                                                                                     \n",
      " sim_cosine | 0.0                                                                                                                                                                                                                                                                                                                                                                                                                                                                                                                                                                                                                                                                                                                                                                                                                                                                                                                                                                                                                                                                                                                                                                                   \n",
      " j_name     | American Counter Terrorism Law                                                                                                                                                                                                                                                                                                                                                                                                                                                                                                                                                                                                                                                                                                                                                                                                                                                                                                                                                                                                                                                                                                                                                        \n",
      " j_lang     | en                                                                                                                                                                                                                                                                                                                                                                                                                                                                                                                                                                                                                                                                                                                                                                                                                                                                                                                                                                                                                                                                                                                                                                                    \n",
      " j_desc     | This online course will introduce you to American laws related to terrorism and the prevention of terrorism. My approach to the topic is the case-study method. Each week, we will read a case study, along with the statutes, regulations, and other law-related materials relevant to the case. We’ll see how the case was handled in court and what reforms were enacted following the trial. Each week’s assignment will include copies of the relevant laws and court rules, a glossary of terms, background readings, and other supplementary materials. The course will commence with the first attempt by Islamic militants to bring down the World Trade Center towers with a truck bomb in 1993. From there, I'll take you through the major terrorist incidents of the past 20 years, including acts perpetrated by homegrown terrorists, such as the Oklahoma City bombing of 1995 and the trial of the SHAC Seven (animal rights) terrorists in Trenton (NJ) in 2006. Required materials: The textbook for this course is Counter Terrorism Issues: Case Studies in the Courtroom, by Jim Castagnera (estimated cost: $100) Find it at CRC Press                         \n",
      "-RECORD 2-------------------------------------------------------------------------------------------------------------------------------------------------------------------------------------------------------------------------------------------------------------------------------------------------------------------------------------------------------------------------------------------------------------------------------------------------------------------------------------------------------------------------------------------------------------------------------------------------------------------------------------------------------------------------------------------------------------------------------------------------------------------------------------------------------------------------------------------------------------------------------------------------------------------------------------------------------------------------------------------------------------------------------------------------------------------------------------------------------------------------------------------------------------------------------------------\n",
      " id         | 1200                                                                                                                                                                                                                                                                                                                                                                                                                                                                                                                                                                                                                                                                                                                                                                                                                                                                                                                                                                                                                                                                                                                                                                                  \n",
      " i_name     | Современные операционные системы                                                                                                                                                                                                                                                                                                                                                                                                                                                                                                                                                                                                                                                                                                                                                                                                                                                                                                                                                                                                                                                                                                                                                      \n",
      " i_lang     | ru                                                                                                                                                                                                                                                                                                                                                                                                                                                                                                                                                                                                                                                                                                                                                                                                                                                                                                                                                                                                                                                                                                                                                                                    \n",
      " i_desc     | В курсе представлены понятия и положения теории операционных систем. Даны основные определения и классификации, рассмотрены интерфейсы операционных систем, организация вычислительного процесса, вопросы управления памятью и устройствами компьютера, организации файловых систем. Уделено внимание совместимости операционных сред и средствам ее обеспечения, в том числе виртуальным машинам. Изложена история происхождения двух наиболее распространенных представителей этого класса программных систем: семейства UNIX/Linux и компании Microsoft. Рассмотрены стандарты и лицензии на программные продукты.                                                                                                                                                                                                                                                                                                                                                                                                                                                                                                                                                                 \n",
      " i          | 1200                                                                                                                                                                                                                                                                                                                                                                                                                                                                                                                                                                                                                                                                                                                                                                                                                                                                                                                                                                                                                                                                                                                                                                                  \n",
      " j          | 6                                                                                                                                                                                                                                                                                                                                                                                                                                                                                                                                                                                                                                                                                                                                                                                                                                                                                                                                                                                                                                                                                                                                                                                     \n",
      " sim_cosine | 0.0                                                                                                                                                                                                                                                                                                                                                                                                                                                                                                                                                                                                                                                                                                                                                                                                                                                                                                                                                                                                                                                                                                                                                                                   \n",
      " j_name     | Arithmétique: en route pour la cryptographie                                                                                                                                                                                                                                                                                                                                                                                                                                                                                                                                                                                                                                                                                                                                                                                                                                                                                                                                                                                                                                                                                                                                          \n",
      " j_lang     | fr                                                                                                                                                                                                                                                                                                                                                                                                                                                                                                                                                                                                                                                                                                                                                                                                                                                                                                                                                                                                                                                                                                                                                                                    \n",
      " j_desc     | This course is taught in French Vous voulez comprendre l'arithmétique ? Vous souhaitez découvrir une application des mathématiques à la vie quotidienne ? Ce cours est fait pour vous ! De niveau première année d'université, vous apprendrez les bases de l'arithmétique (division euclidienne, théorème de Bézout, nombres premiers, congruence). Vous vous êtes déjà demandé comment sont sécurisées les transactions sur Internet ? Vous découvrirez les bases de la cryptographie, en commençant par les codes les plus simples pour aboutir au code RSA. Le code RSA est le code utilisé pour crypter les communications sur internet. Il est basé sur de l'arithmétique assez simple que l'on comprendra en détail. Vous pourrez en plus mettre en pratique vos connaissances par l'apprentissage de notions sur le langage de programmation Python. Vous travaillerez à l'aide de cours écrits et de vidéos, d'exercices corrigés en vidéos, des quiz, des travaux pratiques. Le cours est entièrement gratuit !                                                                                                                                                             \n",
      "only showing top 3 rows\n",
      "\n",
      "CPU times: user 9.81 ms, sys: 1.21 ms, total: 11 ms\n",
      "Wall time: 44.8 s\n"
     ]
    }
   ],
   "source": [
    "%%time\n",
    "# тут спарк считает близость, самый тяжелый процесс\n",
    "cossimmatrix.show(3, vertical=True, truncate=False)"
   ]
  },
  {
   "cell_type": "code",
   "execution_count": 22,
   "metadata": {
    "ExecuteTime": {
     "end_time": "2020-12-21T12:59:25.167744Z",
     "start_time": "2020-12-21T12:59:25.163180Z"
    }
   },
   "outputs": [
    {
     "name": "stdout",
     "output_type": "stream",
     "text": [
      "root\n",
      " |-- id: integer (nullable = true)\n",
      " |-- i_name: string (nullable = true)\n",
      " |-- i_lang: string (nullable = true)\n",
      " |-- i_desc: string (nullable = true)\n",
      " |-- i: integer (nullable = true)\n",
      " |-- j: integer (nullable = true)\n",
      " |-- sim_cosine: float (nullable = true)\n",
      " |-- j_name: string (nullable = true)\n",
      " |-- j_lang: string (nullable = true)\n",
      " |-- j_desc: string (nullable = true)\n",
      "\n"
     ]
    }
   ],
   "source": [
    "cossimmatrix.printSchema()"
   ]
  },
  {
   "cell_type": "code",
   "execution_count": 25,
   "metadata": {
    "ExecuteTime": {
     "end_time": "2020-12-21T13:01:56.413667Z",
     "start_time": "2020-12-21T13:01:22.859216Z"
    }
   },
   "outputs": [
    {
     "name": "stdout",
     "output_type": "stream",
     "text": [
      "+-----+-----+----------+\n",
      "|    i|    j|sim_cosine|\n",
      "+-----+-----+----------+\n",
      "|18030| 3660|0.63669133|\n",
      "|18030| 8098|0.63669133|\n",
      "|18030|26336| 0.6249196|\n",
      "|18030|26670|0.62393713|\n",
      "|18030|20763|0.61926955|\n",
      "|18030|17838| 0.6167861|\n",
      "|18030| 7944|0.61545837|\n",
      "|18030|21053|0.61187696|\n",
      "|18030|  387|0.60660166|\n",
      "|18030| 4096| 0.6064375|\n",
      "|18030| 6864| 0.6050712|\n",
      "|18030|17200| 0.5963444|\n",
      "|18030|21337| 0.5952187|\n",
      "|18030|13275| 0.5937647|\n",
      "|18030|22680| 0.5921054|\n",
      "|18030|22284| 0.5873646|\n",
      "|18030|12413| 0.5872974|\n",
      "|18030|10035| 0.5859689|\n",
      "|18030|16924|0.58521444|\n",
      "|18030|13102|0.58461344|\n",
      "+-----+-----+----------+\n",
      "only showing top 20 rows\n",
      "\n"
     ]
    }
   ],
   "source": [
    "# наши полученные оценки близости\n",
    "cossimmatrix.select('i', 'j', 'sim_cosine').orderBy(F.col('sim_cosine').desc()).show(20)"
   ]
  },
  {
   "cell_type": "code",
   "execution_count": 26,
   "metadata": {
    "ExecuteTime": {
     "end_time": "2020-12-21T13:04:45.756540Z",
     "start_time": "2020-12-21T13:04:04.612401Z"
    }
   },
   "outputs": [
    {
     "data": {
      "text/plain": [
       "{16871: [20182, 19809, 12363, 12952, 20534, 13127, 20183, 19810, 13125, 7397],\n",
       " 12234: [2164, 2162, 23256, 2161, 8101, 3745, 164, 3146, 12384, 2160],\n",
       " 9029: [23114, 6864, 3660, 8098, 22680, 21400, 26336, 26670, 4096, 23629],\n",
       " 18030: [3660, 8098, 26336, 26670, 20763, 17838, 7944, 21053, 387, 4096],\n",
       " 8170: [1311, 8169, 1310, 20352, 1305, 1325, 13685, 8007, 17127, 867],\n",
       " 1200: [1208, 8212, 1204, 1209, 1187, 19419, 1004, 20347, 923, 1343]}"
      ]
     },
     "execution_count": 26,
     "metadata": {},
     "output_type": "execute_result"
    }
   ],
   "source": [
    "# Выбираем топ 10 наших оценок близости для каждого таргета\n",
    "output = {}\n",
    "for elem in courses_list:\n",
    "    output[elem[0]] = cossimmatrix.select(F.col('j'))\\\n",
    "                                    .where(F.col('id') == elem[0])\\\n",
    "                                    .where(F.col('j_lang') == elem[1])\\\n",
    "                                    .orderBy(F.desc('sim_cosine'), \n",
    "                                             F.asc('j_name'), \n",
    "                                             F.asc('j'))\\\n",
    "                                    .limit(10)\\\n",
    "                                    .rdd.flatMap(lambda x: x)\\\n",
    "                                    .collect()\n",
    "output\n",
    "# {16871: [20182, 19809, 12363, 12952, 20534, 13127, 20183, 19810, 13125, 7397],\n",
    "#  12234: [2164, 2162, 23256, 2161, 8101, 3745, 164, 3146, 12384, 15925],\n",
    "#  9029: [23114, 6864, 3660, 8098, 22680, 21400, 26336, 26670, 4096, 4743],\n",
    "#  18030: [3660, 8098, 26336, 26670, 20763, 17838, 7944, 21053, 4096, 387],\n",
    "#  8170: [1311, 8169, 1310, 20352, 1305, 1325, 13685, 8007, 17127, 867],\n",
    "#  1200: [1208, 8212, 19419, 1209, 1187, 1204, 923, 1004, 20347, 1343]}"
   ]
  },
  {
   "cell_type": "markdown",
   "metadata": {},
   "source": [
    "## Имеем чекер на стороне по скрытой выборке\n",
    "\n",
    "[[1200, 0.6], [8170, 0.7], [9029, 0.9], [12234, 0.7], [16871, 0.9], [18030, 0.7]] \n",
    "Достаточно точно"
   ]
  },
  {
   "cell_type": "code",
   "execution_count": 27,
   "metadata": {
    "ExecuteTime": {
     "end_time": "2020-12-21T13:05:57.505436Z",
     "start_time": "2020-12-21T13:05:57.492489Z"
    }
   },
   "outputs": [],
   "source": [
    "import json"
   ]
  },
  {
   "cell_type": "code",
   "execution_count": 28,
   "metadata": {
    "ExecuteTime": {
     "end_time": "2020-12-21T13:06:35.215325Z",
     "start_time": "2020-12-21T13:06:35.211558Z"
    }
   },
   "outputs": [],
   "source": [
    "# сохранили файл. Его нужно положить на сервер и отдать чекеру\n",
    "with open(file='to_chk.json', mode='wt') as file:\n",
    "    file.write(json.dumps(output) + '\\n')"
   ]
  },
  {
   "cell_type": "code",
   "execution_count": 29,
   "metadata": {
    "ExecuteTime": {
     "end_time": "2020-12-21T13:06:36.859536Z",
     "start_time": "2020-12-21T13:06:36.211167Z"
    }
   },
   "outputs": [],
   "source": [
    "spark.stop()"
   ]
  },
  {
   "cell_type": "code",
   "execution_count": null,
   "metadata": {},
   "outputs": [],
   "source": []
  }
 ],
 "metadata": {
  "kernelspec": {
   "display_name": "Python 3",
   "language": "python",
   "name": "python3"
  },
  "language_info": {
   "codemirror_mode": {
    "name": "ipython",
    "version": 3
   },
   "file_extension": ".py",
   "mimetype": "text/x-python",
   "name": "python",
   "nbconvert_exporter": "python",
   "pygments_lexer": "ipython3",
   "version": "3.6.5"
  },
  "toc": {
   "base_numbering": 1,
   "nav_menu": {},
   "number_sections": true,
   "sideBar": true,
   "skip_h1_title": false,
   "title_cell": "Table of Contents",
   "title_sidebar": "Contents",
   "toc_cell": false,
   "toc_position": {},
   "toc_section_display": true,
   "toc_window_display": false
  },
  "varInspector": {
   "cols": {
    "lenName": 16,
    "lenType": 16,
    "lenVar": 40
   },
   "kernels_config": {
    "python": {
     "delete_cmd_postfix": "",
     "delete_cmd_prefix": "del ",
     "library": "var_list.py",
     "varRefreshCmd": "print(var_dic_list())"
    },
    "r": {
     "delete_cmd_postfix": ") ",
     "delete_cmd_prefix": "rm(",
     "library": "var_list.r",
     "varRefreshCmd": "cat(var_dic_list()) "
    }
   },
   "types_to_exclude": [
    "module",
    "function",
    "builtin_function_or_method",
    "instance",
    "_Feature"
   ],
   "window_display": false
  }
 },
 "nbformat": 4,
 "nbformat_minor": 2
}
