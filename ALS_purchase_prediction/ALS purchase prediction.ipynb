{
 "cells": [
  {
   "cell_type": "code",
   "execution_count": 1,
   "metadata": {
    "ExecuteTime": {
     "end_time": "2020-12-21T16:10:29.977027Z",
     "start_time": "2020-12-21T16:10:29.971990Z"
    }
   },
   "outputs": [],
   "source": [
    "import os\n",
    "import sys\n",
    "os.environ[\"PYSPARK_PYTHON\"]='/opt/anaconda/envs/bd9/bin/python'\n",
    "os.environ[\"SPARK_HOME\"]='/usr/hdp/current/spark2-client'\n",
    "os.environ[\"PYSPARK_SUBMIT_ARGS\"]='--num-executors 3 pyspark-shell'\n",
    "\n",
    "spark_home = os.environ.get('SPARK_HOME', None)\n",
    "\n",
    "sys.path.insert(0, os.path.join(spark_home, 'python'))\n",
    "sys.path.insert(0, os.path.join(spark_home, 'python/lib/py4j-0.10.7-src.zip'))"
   ]
  },
  {
   "cell_type": "code",
   "execution_count": 2,
   "metadata": {
    "ExecuteTime": {
     "end_time": "2020-12-21T16:10:31.114573Z",
     "start_time": "2020-12-21T16:10:30.891572Z"
    }
   },
   "outputs": [],
   "source": [
    "from pyspark import SparkConf\n",
    "from pyspark.sql import SparkSession\n",
    "from pyspark.sql import functions as F\n",
    "from pyspark.sql.types import *\n",
    "import json"
   ]
  },
  {
   "cell_type": "code",
   "execution_count": 3,
   "metadata": {
    "ExecuteTime": {
     "end_time": "2020-12-21T16:11:13.312272Z",
     "start_time": "2020-12-21T16:10:53.931493Z"
    }
   },
   "outputs": [],
   "source": [
    "conf = SparkConf()\n",
    "\n",
    "spark = (SparkSession\n",
    "         .builder\n",
    "         .config(conf=conf)\n",
    "         .appName(\"ALS purchase prediction\")\n",
    "         .getOrCreate())"
   ]
  },
  {
   "cell_type": "code",
   "execution_count": 4,
   "metadata": {
    "ExecuteTime": {
     "end_time": "2020-12-21T16:11:13.335497Z",
     "start_time": "2020-12-21T16:11:13.321423Z"
    }
   },
   "outputs": [
    {
     "data": {
      "text/html": [
       "\n",
       "            <div>\n",
       "                <p><b>SparkSession - in-memory</b></p>\n",
       "                \n",
       "        <div>\n",
       "            <p><b>SparkContext</b></p>\n",
       "\n",
       "            <p><a href=\"http://bd-master.newprolab.com:4040\">Spark UI</a></p>\n",
       "\n",
       "            <dl>\n",
       "              <dt>Version</dt>\n",
       "                <dd><code>v2.4.7</code></dd>\n",
       "              <dt>Master</dt>\n",
       "                <dd><code>yarn</code></dd>\n",
       "              <dt>AppName</dt>\n",
       "                <dd><code>ALS purchase prediction</code></dd>\n",
       "            </dl>\n",
       "        </div>\n",
       "        \n",
       "            </div>\n",
       "        "
      ],
      "text/plain": [
       "<pyspark.sql.session.SparkSession at 0x7fa3e5030470>"
      ]
     },
     "execution_count": 4,
     "metadata": {},
     "output_type": "execute_result"
    }
   ],
   "source": [
    "spark"
   ]
  },
  {
   "cell_type": "code",
   "execution_count": 15,
   "metadata": {
    "ExecuteTime": {
     "end_time": "2020-12-21T16:16:03.176509Z",
     "start_time": "2020-12-21T16:16:03.171452Z"
    }
   },
   "outputs": [],
   "source": [
    "\n",
    "\n",
    "from pyspark.ml import Pipeline\n",
    "from pyspark.ml.feature import CountVectorizer, HashingTF, IDF\n",
    "# from pyspark.ml.tuning import CrossValidator, ParamGridBuilder\n",
    "# from pyspark.ml.evaluation import RegressionEvaluator\n",
    "from pyspark.ml.recommendation import ALS, ALSModel\n",
    "import numpy as np\n",
    "import pandas as pd\n",
    "import ast\n",
    "import matplotlib.pyplot as plt\n",
    "import seaborn as sns\n",
    "from pyspark.sql.window import Window\n",
    "from pyspark.sql.functions import rank, col\n",
    "from tqdm import tqdm"
   ]
  },
  {
   "cell_type": "markdown",
   "metadata": {},
   "source": [
    "### Читаем данные ==============================================="
   ]
  },
  {
   "cell_type": "code",
   "execution_count": 6,
   "metadata": {
    "ExecuteTime": {
     "end_time": "2020-12-21T16:12:10.305144Z",
     "start_time": "2020-12-21T16:11:58.457964Z"
    }
   },
   "outputs": [
    {
     "data": {
      "text/html": [
       "<div>\n",
       "<style scoped>\n",
       "    .dataframe tbody tr th:only-of-type {\n",
       "        vertical-align: middle;\n",
       "    }\n",
       "\n",
       "    .dataframe tbody tr th {\n",
       "        vertical-align: top;\n",
       "    }\n",
       "\n",
       "    .dataframe thead th {\n",
       "        text-align: right;\n",
       "    }\n",
       "</style>\n",
       "<table border=\"1\" class=\"dataframe\">\n",
       "  <thead>\n",
       "    <tr style=\"text-align: right;\">\n",
       "      <th></th>\n",
       "      <th>item_id</th>\n",
       "      <th>channel_id</th>\n",
       "      <th>datetime_availability_start</th>\n",
       "      <th>datetime_availability_stop</th>\n",
       "      <th>datetime_show_start</th>\n",
       "      <th>datetime_show_stop</th>\n",
       "      <th>content_type</th>\n",
       "      <th>title</th>\n",
       "      <th>year</th>\n",
       "      <th>genres</th>\n",
       "      <th>region_id</th>\n",
       "    </tr>\n",
       "  </thead>\n",
       "  <tbody>\n",
       "    <tr>\n",
       "      <th>0</th>\n",
       "      <td>65667</td>\n",
       "      <td>None</td>\n",
       "      <td>1970-01-01T00:00:00Z</td>\n",
       "      <td>2018-01-01T00:00:00Z</td>\n",
       "      <td>None</td>\n",
       "      <td>None</td>\n",
       "      <td>1</td>\n",
       "      <td>на пробах только девушки (all girl auditions)</td>\n",
       "      <td>2013.0</td>\n",
       "      <td>Эротика</td>\n",
       "      <td>None</td>\n",
       "    </tr>\n",
       "    <tr>\n",
       "      <th>1</th>\n",
       "      <td>65669</td>\n",
       "      <td>None</td>\n",
       "      <td>1970-01-01T00:00:00Z</td>\n",
       "      <td>2018-01-01T00:00:00Z</td>\n",
       "      <td>None</td>\n",
       "      <td>None</td>\n",
       "      <td>1</td>\n",
       "      <td>скуби ду: эротическая пародия (scooby doo: a x...</td>\n",
       "      <td>2011.0</td>\n",
       "      <td>Эротика</td>\n",
       "      <td>None</td>\n",
       "    </tr>\n",
       "    <tr>\n",
       "      <th>2</th>\n",
       "      <td>65668</td>\n",
       "      <td>None</td>\n",
       "      <td>1970-01-01T00:00:00Z</td>\n",
       "      <td>2018-01-01T00:00:00Z</td>\n",
       "      <td>None</td>\n",
       "      <td>None</td>\n",
       "      <td>1</td>\n",
       "      <td>горячие девочки для горячих девочек (hot babes...</td>\n",
       "      <td>2011.0</td>\n",
       "      <td>Эротика</td>\n",
       "      <td>None</td>\n",
       "    </tr>\n",
       "    <tr>\n",
       "      <th>3</th>\n",
       "      <td>65671</td>\n",
       "      <td>None</td>\n",
       "      <td>1970-01-01T00:00:00Z</td>\n",
       "      <td>2018-01-01T00:00:00Z</td>\n",
       "      <td>None</td>\n",
       "      <td>None</td>\n",
       "      <td>1</td>\n",
       "      <td>соблазнительницы женатых мужчин (top heavy hom...</td>\n",
       "      <td>2011.0</td>\n",
       "      <td>Эротика</td>\n",
       "      <td>None</td>\n",
       "    </tr>\n",
       "    <tr>\n",
       "      <th>4</th>\n",
       "      <td>65670</td>\n",
       "      <td>None</td>\n",
       "      <td>1970-01-01T00:00:00Z</td>\n",
       "      <td>2018-01-01T00:00:00Z</td>\n",
       "      <td>None</td>\n",
       "      <td>None</td>\n",
       "      <td>1</td>\n",
       "      <td>секретные секс-материалы ii: темная секс парод...</td>\n",
       "      <td>2010.0</td>\n",
       "      <td>Эротика</td>\n",
       "      <td>None</td>\n",
       "    </tr>\n",
       "  </tbody>\n",
       "</table>\n",
       "</div>"
      ],
      "text/plain": [
       "  item_id channel_id datetime_availability_start datetime_availability_stop  \\\n",
       "0   65667       None        1970-01-01T00:00:00Z       2018-01-01T00:00:00Z   \n",
       "1   65669       None        1970-01-01T00:00:00Z       2018-01-01T00:00:00Z   \n",
       "2   65668       None        1970-01-01T00:00:00Z       2018-01-01T00:00:00Z   \n",
       "3   65671       None        1970-01-01T00:00:00Z       2018-01-01T00:00:00Z   \n",
       "4   65670       None        1970-01-01T00:00:00Z       2018-01-01T00:00:00Z   \n",
       "\n",
       "  datetime_show_start datetime_show_stop content_type  \\\n",
       "0                None               None            1   \n",
       "1                None               None            1   \n",
       "2                None               None            1   \n",
       "3                None               None            1   \n",
       "4                None               None            1   \n",
       "\n",
       "                                               title    year   genres  \\\n",
       "0      на пробах только девушки (all girl auditions)  2013.0  Эротика   \n",
       "1  скуби ду: эротическая пародия (scooby doo: a x...  2011.0  Эротика   \n",
       "2  горячие девочки для горячих девочек (hot babes...  2011.0  Эротика   \n",
       "3  соблазнительницы женатых мужчин (top heavy hom...  2011.0  Эротика   \n",
       "4  секретные секс-материалы ii: темная секс парод...  2010.0  Эротика   \n",
       "\n",
       "  region_id  \n",
       "0      None  \n",
       "1      None  \n",
       "2      None  \n",
       "3      None  \n",
       "4      None  "
      ]
     },
     "execution_count": 6,
     "metadata": {},
     "output_type": "execute_result"
    }
   ],
   "source": [
    "# lab10_items.csv — дополнительные данные по items. В данном файле много лишней или ненужной \n",
    "# информации, так что задача её фильтрации и отбора ложится на вас. Поля в файле, на которых \n",
    "# хотелось бы остановиться:\n",
    "\n",
    "#     item_id — primary key. Соответствует item_id в предыдущем файле.\n",
    "#     content_type — тип телепередачи (1 — платная, 0 — бесплатная). Вас интересуют платные передачи.\n",
    "#     title — название передачи, текстовое поле.\n",
    "#     year — год выпуска передачи, число.\n",
    "#     genres — поле с жанрами передачи, разделёнными через запятую.\n",
    "\n",
    "\n",
    "\n",
    "items = spark.read.csv('/labs/lab10data/lab10_items.csv', header=True, sep='\\t')\n",
    "               \n",
    "items.limit(5).toPandas()\n",
    "# items.show(2, vertical=True, truncate=False)"
   ]
  },
  {
   "cell_type": "code",
   "execution_count": 7,
   "metadata": {
    "ExecuteTime": {
     "end_time": "2020-12-21T16:12:32.156409Z",
     "start_time": "2020-12-21T16:12:19.267029Z"
    }
   },
   "outputs": [
    {
     "data": {
      "text/html": [
       "<div>\n",
       "<style scoped>\n",
       "    .dataframe tbody tr th:only-of-type {\n",
       "        vertical-align: middle;\n",
       "    }\n",
       "\n",
       "    .dataframe tbody tr th {\n",
       "        vertical-align: top;\n",
       "    }\n",
       "\n",
       "    .dataframe thead th {\n",
       "        text-align: right;\n",
       "    }\n",
       "</style>\n",
       "<table border=\"1\" class=\"dataframe\">\n",
       "  <thead>\n",
       "    <tr style=\"text-align: right;\">\n",
       "      <th></th>\n",
       "      <th>item_id</th>\n",
       "      <th>channel_id</th>\n",
       "      <th>datetime_availability_start</th>\n",
       "      <th>datetime_availability_stop</th>\n",
       "      <th>datetime_show_start</th>\n",
       "      <th>datetime_show_stop</th>\n",
       "      <th>content_type</th>\n",
       "      <th>title</th>\n",
       "      <th>year</th>\n",
       "      <th>genres</th>\n",
       "      <th>region_id</th>\n",
       "      <th>interactions</th>\n",
       "    </tr>\n",
       "  </thead>\n",
       "  <tbody>\n",
       "    <tr>\n",
       "      <th>0</th>\n",
       "      <td>635568</td>\n",
       "      <td>207</td>\n",
       "      <td>2</td>\n",
       "      <td>44071</td>\n",
       "      <td>43070</td>\n",
       "      <td>43356</td>\n",
       "      <td>2</td>\n",
       "      <td>23678</td>\n",
       "      <td>80</td>\n",
       "      <td>1076</td>\n",
       "      <td>18</td>\n",
       "      <td>635568</td>\n",
       "    </tr>\n",
       "  </tbody>\n",
       "</table>\n",
       "</div>"
      ],
      "text/plain": [
       "   item_id  channel_id  datetime_availability_start  \\\n",
       "0   635568         207                            2   \n",
       "\n",
       "   datetime_availability_stop  datetime_show_start  datetime_show_stop  \\\n",
       "0                       44071                43070               43356   \n",
       "\n",
       "   content_type  title  year  genres  region_id  interactions  \n",
       "0             2  23678    80    1076         18        635568  "
      ]
     },
     "execution_count": 7,
     "metadata": {},
     "output_type": "execute_result"
    }
   ],
   "source": [
    "items.registerTempTable(\"items\")\n",
    "spark.sql(\"\"\"\n",
    "select\n",
    "    count(distinct item_id) as item_id,\n",
    "    count(distinct channel_id) as channel_id,\n",
    "    count(distinct datetime_availability_start) as datetime_availability_start,\n",
    "    count(distinct datetime_availability_stop) as datetime_availability_stop,\n",
    "    count(distinct datetime_show_start) as datetime_show_start,\n",
    "    count(distinct datetime_show_stop) as datetime_show_stop,\n",
    "    count(distinct content_type) as content_type,\n",
    "    count(distinct title) as title,\n",
    "    count(distinct year) as year,\n",
    "    count(distinct genres) as genres,\n",
    "    count(distinct region_id) as region_id,\n",
    "    count(*) as interactions    \n",
    "from\n",
    "    items\n",
    "\"\"\").toPandas()"
   ]
  },
  {
   "cell_type": "code",
   "execution_count": 8,
   "metadata": {
    "ExecuteTime": {
     "end_time": "2020-12-21T16:12:36.571554Z",
     "start_time": "2020-12-21T16:12:33.123658Z"
    }
   },
   "outputs": [
    {
     "data": {
      "text/html": [
       "<div>\n",
       "<style scoped>\n",
       "    .dataframe tbody tr th:only-of-type {\n",
       "        vertical-align: middle;\n",
       "    }\n",
       "\n",
       "    .dataframe tbody tr th {\n",
       "        vertical-align: top;\n",
       "    }\n",
       "\n",
       "    .dataframe thead th {\n",
       "        text-align: right;\n",
       "    }\n",
       "</style>\n",
       "<table border=\"1\" class=\"dataframe\">\n",
       "  <thead>\n",
       "    <tr style=\"text-align: right;\">\n",
       "      <th></th>\n",
       "      <th>user_id</th>\n",
       "      <th>item_id</th>\n",
       "      <th>purchase</th>\n",
       "    </tr>\n",
       "  </thead>\n",
       "  <tbody>\n",
       "    <tr>\n",
       "      <th>0</th>\n",
       "      <td>1654</td>\n",
       "      <td>94814</td>\n",
       "      <td>None</td>\n",
       "    </tr>\n",
       "    <tr>\n",
       "      <th>1</th>\n",
       "      <td>1654</td>\n",
       "      <td>93629</td>\n",
       "      <td>None</td>\n",
       "    </tr>\n",
       "    <tr>\n",
       "      <th>2</th>\n",
       "      <td>1654</td>\n",
       "      <td>9980</td>\n",
       "      <td>None</td>\n",
       "    </tr>\n",
       "    <tr>\n",
       "      <th>3</th>\n",
       "      <td>1654</td>\n",
       "      <td>95099</td>\n",
       "      <td>None</td>\n",
       "    </tr>\n",
       "    <tr>\n",
       "      <th>4</th>\n",
       "      <td>1654</td>\n",
       "      <td>11265</td>\n",
       "      <td>None</td>\n",
       "    </tr>\n",
       "  </tbody>\n",
       "</table>\n",
       "</div>"
      ],
      "text/plain": [
       "  user_id item_id purchase\n",
       "0    1654   94814     None\n",
       "1    1654   93629     None\n",
       "2    1654    9980     None\n",
       "3    1654   95099     None\n",
       "4    1654   11265     None"
      ]
     },
     "execution_count": 8,
     "metadata": {},
     "output_type": "execute_result"
    }
   ],
   "source": [
    "# lab10_test.csv — тестовый датасет без указанного целевого признака purchase, который вам и \n",
    "# предстоит предсказать.\n",
    "\n",
    "test = spark.read.csv('/labs/lab10data/lab10_test.csv', header=True)\n",
    "               \n",
    "test.limit(5).toPandas()\n",
    "# items.show(2, vertical=True, truncate=False)"
   ]
  },
  {
   "cell_type": "code",
   "execution_count": 9,
   "metadata": {
    "ExecuteTime": {
     "end_time": "2020-12-21T16:12:43.198404Z",
     "start_time": "2020-12-21T16:12:37.531663Z"
    }
   },
   "outputs": [
    {
     "data": {
      "text/html": [
       "<div>\n",
       "<style scoped>\n",
       "    .dataframe tbody tr th:only-of-type {\n",
       "        vertical-align: middle;\n",
       "    }\n",
       "\n",
       "    .dataframe tbody tr th {\n",
       "        vertical-align: top;\n",
       "    }\n",
       "\n",
       "    .dataframe thead th {\n",
       "        text-align: right;\n",
       "    }\n",
       "</style>\n",
       "<table border=\"1\" class=\"dataframe\">\n",
       "  <thead>\n",
       "    <tr style=\"text-align: right;\">\n",
       "      <th></th>\n",
       "      <th>user_id</th>\n",
       "      <th>item_id</th>\n",
       "      <th>interactions</th>\n",
       "    </tr>\n",
       "  </thead>\n",
       "  <tbody>\n",
       "    <tr>\n",
       "      <th>0</th>\n",
       "      <td>1941</td>\n",
       "      <td>3704</td>\n",
       "      <td>2156840</td>\n",
       "    </tr>\n",
       "  </tbody>\n",
       "</table>\n",
       "</div>"
      ],
      "text/plain": [
       "   user_id  item_id  interactions\n",
       "0     1941     3704       2156840"
      ]
     },
     "execution_count": 9,
     "metadata": {},
     "output_type": "execute_result"
    }
   ],
   "source": [
    "test.registerTempTable(\"test\")\n",
    "spark.sql(\"\"\"\n",
    "select\n",
    "    count(distinct user_id) as user_id,\n",
    "    count(distinct item_id) as item_id,\n",
    "    count(*) as interactions    \n",
    "from\n",
    "    test\n",
    "\"\"\").toPandas()"
   ]
  },
  {
   "cell_type": "code",
   "execution_count": 10,
   "metadata": {
    "ExecuteTime": {
     "end_time": "2020-12-21T16:12:53.653931Z",
     "start_time": "2020-12-21T16:12:44.571882Z"
    }
   },
   "outputs": [
    {
     "data": {
      "text/html": [
       "<div>\n",
       "<style scoped>\n",
       "    .dataframe tbody tr th:only-of-type {\n",
       "        vertical-align: middle;\n",
       "    }\n",
       "\n",
       "    .dataframe tbody tr th {\n",
       "        vertical-align: top;\n",
       "    }\n",
       "\n",
       "    .dataframe thead th {\n",
       "        text-align: right;\n",
       "    }\n",
       "</style>\n",
       "<table border=\"1\" class=\"dataframe\">\n",
       "  <thead>\n",
       "    <tr style=\"text-align: right;\">\n",
       "      <th></th>\n",
       "      <th>user_id</th>\n",
       "      <th>item_id</th>\n",
       "      <th>purchase</th>\n",
       "    </tr>\n",
       "  </thead>\n",
       "  <tbody>\n",
       "    <tr>\n",
       "      <th>0</th>\n",
       "      <td>1654</td>\n",
       "      <td>74107</td>\n",
       "      <td>0</td>\n",
       "    </tr>\n",
       "    <tr>\n",
       "      <th>1</th>\n",
       "      <td>1654</td>\n",
       "      <td>89249</td>\n",
       "      <td>0</td>\n",
       "    </tr>\n",
       "    <tr>\n",
       "      <th>2</th>\n",
       "      <td>1654</td>\n",
       "      <td>99982</td>\n",
       "      <td>0</td>\n",
       "    </tr>\n",
       "    <tr>\n",
       "      <th>3</th>\n",
       "      <td>1654</td>\n",
       "      <td>89901</td>\n",
       "      <td>0</td>\n",
       "    </tr>\n",
       "    <tr>\n",
       "      <th>4</th>\n",
       "      <td>1654</td>\n",
       "      <td>100504</td>\n",
       "      <td>0</td>\n",
       "    </tr>\n",
       "  </tbody>\n",
       "</table>\n",
       "</div>"
      ],
      "text/plain": [
       "  user_id item_id purchase\n",
       "0    1654   74107        0\n",
       "1    1654   89249        0\n",
       "2    1654   99982        0\n",
       "3    1654   89901        0\n",
       "4    1654  100504        0"
      ]
     },
     "execution_count": 10,
     "metadata": {},
     "output_type": "execute_result"
    }
   ],
   "source": [
    "# В lab10_train.csv содержатся факты \n",
    "# покупки (колонка purchase) \n",
    "# пользователями (колонка user_id) \n",
    "# телепередач (колонка item_id). \n",
    "# Такой формат файла вам уже знаком.\n",
    "\n",
    "train = spark.read.csv('/labs/lab10data/lab10_train.csv', header=True)\n",
    "               \n",
    "train.limit(5).toPandas()\n",
    "# items.show(2, vertical=True, truncate=False)"
   ]
  },
  {
   "cell_type": "code",
   "execution_count": 19,
   "metadata": {
    "ExecuteTime": {
     "end_time": "2020-12-13T16:55:12.384964Z",
     "start_time": "2020-12-13T16:54:57.414011Z"
    }
   },
   "outputs": [
    {
     "data": {
      "text/html": [
       "<div>\n",
       "<style scoped>\n",
       "    .dataframe tbody tr th:only-of-type {\n",
       "        vertical-align: middle;\n",
       "    }\n",
       "\n",
       "    .dataframe tbody tr th {\n",
       "        vertical-align: top;\n",
       "    }\n",
       "\n",
       "    .dataframe thead th {\n",
       "        text-align: right;\n",
       "    }\n",
       "</style>\n",
       "<table border=\"1\" class=\"dataframe\">\n",
       "  <thead>\n",
       "    <tr style=\"text-align: right;\">\n",
       "      <th></th>\n",
       "      <th>user_id</th>\n",
       "      <th>item_id</th>\n",
       "      <th>interactions</th>\n",
       "    </tr>\n",
       "  </thead>\n",
       "  <tbody>\n",
       "    <tr>\n",
       "      <th>0</th>\n",
       "      <td>1941</td>\n",
       "      <td>3704</td>\n",
       "      <td>5032624</td>\n",
       "    </tr>\n",
       "  </tbody>\n",
       "</table>\n",
       "</div>"
      ],
      "text/plain": [
       "   user_id  item_id  interactions\n",
       "0     1941     3704       5032624"
      ]
     },
     "execution_count": 19,
     "metadata": {},
     "output_type": "execute_result"
    }
   ],
   "source": [
    "train.registerTempTable(\"train\")\n",
    "spark.sql(\"\"\"\n",
    "select\n",
    "    count(distinct user_id) as user_id,\n",
    "    count(distinct item_id) as item_id,\n",
    "    count(*) as interactions    \n",
    "from\n",
    "    train\n",
    "\"\"\").toPandas()"
   ]
  },
  {
   "cell_type": "code",
   "execution_count": 11,
   "metadata": {
    "ExecuteTime": {
     "end_time": "2020-12-21T16:13:49.867395Z",
     "start_time": "2020-12-21T16:13:23.691878Z"
    }
   },
   "outputs": [
    {
     "data": {
      "text/html": [
       "<div>\n",
       "<style scoped>\n",
       "    .dataframe tbody tr th:only-of-type {\n",
       "        vertical-align: middle;\n",
       "    }\n",
       "\n",
       "    .dataframe tbody tr th {\n",
       "        vertical-align: top;\n",
       "    }\n",
       "\n",
       "    .dataframe thead th {\n",
       "        text-align: right;\n",
       "    }\n",
       "</style>\n",
       "<table border=\"1\" class=\"dataframe\">\n",
       "  <thead>\n",
       "    <tr style=\"text-align: right;\">\n",
       "      <th></th>\n",
       "      <th>user_id</th>\n",
       "      <th>item_id</th>\n",
       "      <th>ts_start</th>\n",
       "      <th>ts_end</th>\n",
       "      <th>item_type</th>\n",
       "    </tr>\n",
       "  </thead>\n",
       "  <tbody>\n",
       "    <tr>\n",
       "      <th>0</th>\n",
       "      <td>818606</td>\n",
       "      <td>6739803</td>\n",
       "      <td>1489489378</td>\n",
       "      <td>1489494212</td>\n",
       "      <td>live</td>\n",
       "    </tr>\n",
       "    <tr>\n",
       "      <th>1</th>\n",
       "      <td>818606</td>\n",
       "      <td>6271248</td>\n",
       "      <td>1486459714</td>\n",
       "      <td>1486460684</td>\n",
       "      <td>live</td>\n",
       "    </tr>\n",
       "    <tr>\n",
       "      <th>2</th>\n",
       "      <td>818606</td>\n",
       "      <td>6963181</td>\n",
       "      <td>1490737862</td>\n",
       "      <td>1490752561</td>\n",
       "      <td>live</td>\n",
       "    </tr>\n",
       "    <tr>\n",
       "      <th>3</th>\n",
       "      <td>818606</td>\n",
       "      <td>7371187</td>\n",
       "      <td>1492854851</td>\n",
       "      <td>1492855995</td>\n",
       "      <td>live</td>\n",
       "    </tr>\n",
       "    <tr>\n",
       "      <th>4</th>\n",
       "      <td>818606</td>\n",
       "      <td>6538677</td>\n",
       "      <td>1488209891</td>\n",
       "      <td>1488211584</td>\n",
       "      <td>live</td>\n",
       "    </tr>\n",
       "  </tbody>\n",
       "</table>\n",
       "</div>"
      ],
      "text/plain": [
       "  user_id  item_id    ts_start      ts_end item_type\n",
       "0  818606  6739803  1489489378  1489494212      live\n",
       "1  818606  6271248  1486459714  1486460684      live\n",
       "2  818606  6963181  1490737862  1490752561      live\n",
       "3  818606  7371187  1492854851  1492855995      live\n",
       "4  818606  6538677  1488209891  1488211584      live"
      ]
     },
     "execution_count": 11,
     "metadata": {},
     "output_type": "execute_result"
    }
   ],
   "source": [
    "# Дополнительный файл lab10_views_programmes.csv по просмотрам передач с полями:\n",
    "\n",
    "#     ts_start — время начала просмотра\n",
    "#     ts_end — время окончания просмотра\n",
    "#     item_type— тип просматриваемого контента:\n",
    "#         live — просмотр \"вживую\", в момент показа контента в эфире\n",
    "#         pvr — просмотр в записи, после показа контента в эфире\n",
    "\n",
    "\n",
    "\n",
    "views = spark.read.csv('/labs/lab10data/lab10_views_programmes.csv', header=True)\n",
    "               \n",
    "views.limit(5).toPandas()\n",
    "# items.show(2, vertical=True, truncate=False)"
   ]
  },
  {
   "cell_type": "code",
   "execution_count": 12,
   "metadata": {
    "ExecuteTime": {
     "end_time": "2020-12-21T16:14:46.714015Z",
     "start_time": "2020-12-21T16:13:55.332323Z"
    }
   },
   "outputs": [
    {
     "data": {
      "text/html": [
       "<div>\n",
       "<style scoped>\n",
       "    .dataframe tbody tr th:only-of-type {\n",
       "        vertical-align: middle;\n",
       "    }\n",
       "\n",
       "    .dataframe tbody tr th {\n",
       "        vertical-align: top;\n",
       "    }\n",
       "\n",
       "    .dataframe thead th {\n",
       "        text-align: right;\n",
       "    }\n",
       "</style>\n",
       "<table border=\"1\" class=\"dataframe\">\n",
       "  <thead>\n",
       "    <tr style=\"text-align: right;\">\n",
       "      <th></th>\n",
       "      <th>user_id</th>\n",
       "      <th>item_id</th>\n",
       "      <th>ts_start</th>\n",
       "      <th>ts_end</th>\n",
       "      <th>item_type</th>\n",
       "      <th>interactions</th>\n",
       "    </tr>\n",
       "  </thead>\n",
       "  <tbody>\n",
       "    <tr>\n",
       "      <th>0</th>\n",
       "      <td>79385</td>\n",
       "      <td>633840</td>\n",
       "      <td>5126018</td>\n",
       "      <td>5106233</td>\n",
       "      <td>2</td>\n",
       "      <td>20845607</td>\n",
       "    </tr>\n",
       "  </tbody>\n",
       "</table>\n",
       "</div>"
      ],
      "text/plain": [
       "   user_id  item_id  ts_start   ts_end  item_type  interactions\n",
       "0    79385   633840   5126018  5106233          2      20845607"
      ]
     },
     "execution_count": 12,
     "metadata": {},
     "output_type": "execute_result"
    }
   ],
   "source": [
    "views.registerTempTable(\"views\")\n",
    "spark.sql(\"\"\"\n",
    "select\n",
    "    count(distinct user_id) as user_id,\n",
    "    count(distinct item_id) as item_id,\n",
    "    count(distinct ts_start) as ts_start,\n",
    "    count(distinct ts_end) as ts_end,\n",
    "    count(distinct item_type) as item_type,\n",
    "    count(*) as interactions    \n",
    "from\n",
    "    views\n",
    "\"\"\").toPandas()"
   ]
  },
  {
   "cell_type": "markdown",
   "metadata": {},
   "source": [
    "### Оцениваем предыдущий подбор параметров==================================="
   ]
  },
  {
   "cell_type": "code",
   "execution_count": 24,
   "metadata": {
    "ExecuteTime": {
     "end_time": "2020-12-21T16:28:19.116387Z",
     "start_time": "2020-12-21T16:28:19.100708Z"
    }
   },
   "outputs": [],
   "source": [
    "als_model_results = pd.read_csv('lab10_als_cv.csv')"
   ]
  },
  {
   "cell_type": "code",
   "execution_count": 29,
   "metadata": {
    "ExecuteTime": {
     "end_time": "2020-12-21T16:30:24.960279Z",
     "start_time": "2020-12-21T16:30:24.948501Z"
    }
   },
   "outputs": [
    {
     "ename": "AttributeError",
     "evalue": "module 'seaborn' has no attribute 'lineplot'",
     "output_type": "error",
     "traceback": [
      "\u001b[0;31m---------------------------------------------------------------------------\u001b[0m",
      "\u001b[0;31mAttributeError\u001b[0m                            Traceback (most recent call last)",
      "\u001b[0;32m<ipython-input-29-924517e44042>\u001b[0m in \u001b[0;36m<module>\u001b[0;34m()\u001b[0m\n\u001b[0;32m----> 1\u001b[0;31m \u001b[0msns\u001b[0m\u001b[0;34m.\u001b[0m\u001b[0mlineplot\u001b[0m\u001b[0;34m(\u001b[0m\u001b[0mdata\u001b[0m\u001b[0;34m=\u001b[0m\u001b[0mals_model_results\u001b[0m\u001b[0;34m,\u001b[0m \u001b[0mx\u001b[0m\u001b[0;34m=\u001b[0m\u001b[0;34m'rank'\u001b[0m\u001b[0;34m,\u001b[0m \u001b[0my\u001b[0m\u001b[0;34m=\u001b[0m\u001b[0;34m'rmse'\u001b[0m\u001b[0;34m,\u001b[0m \u001b[0mhue\u001b[0m\u001b[0;34m=\u001b[0m\u001b[0;34m'regParam'\u001b[0m\u001b[0;34m)\u001b[0m\u001b[0;34m\u001b[0m\u001b[0m\n\u001b[0m\u001b[1;32m      2\u001b[0m \u001b[0mplt\u001b[0m\u001b[0;34m.\u001b[0m\u001b[0mshow\u001b[0m\u001b[0;34m(\u001b[0m\u001b[0;34m)\u001b[0m\u001b[0;34m\u001b[0m\u001b[0m\n",
      "\u001b[0;31mAttributeError\u001b[0m: module 'seaborn' has no attribute 'lineplot'"
     ]
    }
   ],
   "source": [
    "sns.lineplot(data=als_model_results, x='rank', y='rmse', hue='regParam')\n",
    "plt.show()"
   ]
  },
  {
   "cell_type": "markdown",
   "metadata": {},
   "source": [
    "### ALS ==============================================="
   ]
  },
  {
   "cell_type": "code",
   "execution_count": 18,
   "metadata": {
    "ExecuteTime": {
     "end_time": "2020-12-21T16:18:20.597284Z",
     "start_time": "2020-12-21T16:17:34.971130Z"
    }
   },
   "outputs": [
    {
     "name": "stdout",
     "output_type": "stream",
     "text": [
      "Тестовыe user_id рекомендовали в учебном сете : 1941 из 1941. Всего записей: 5032624\n",
      "Было рекомендовано тестовых item_id в учебном сете : 3704 из 3704. Всего записей: 5032624\n"
     ]
    }
   ],
   "source": [
    "print('Тестовыe user_id рекомендовали в учебном сете : ' + \n",
    "      str(train.groupBy('user_id').count().alias('a')\n",
    "          .join(test.groupBy('user_id').count().alias('b'), F.col('a.user_id')==F.col('b.user_id'), how='inner').count()) + \n",
    "      ' из ' + \n",
    "      str(train.groupBy('user_id').count().count()) + \n",
    "      '. Всего записей: ' + \n",
    "      str(train.count()))\n",
    "\n",
    "print('Было рекомендовано тестовых item_id в учебном сете : ' + \n",
    "      str(train.groupBy('item_id').count().alias('a')\n",
    "          .join(test.groupBy('item_id').count().alias('b'), F.col('a.item_id')==F.col('b.item_id'), how='inner').count()) + \n",
    "      ' из ' + \n",
    "      str(train.groupBy('item_id').count().count()) + \n",
    "      '. Всего записей: ' + \n",
    "      str(train.count()))"
   ]
  },
  {
   "cell_type": "code",
   "execution_count": null,
   "metadata": {},
   "outputs": [],
   "source": [
    "# chk_train, chk_val = train_als.randomSplit([0.8, 0.2], seed=42)"
   ]
  },
  {
   "cell_type": "code",
   "execution_count": 19,
   "metadata": {
    "ExecuteTime": {
     "end_time": "2020-12-21T16:18:34.275056Z",
     "start_time": "2020-12-21T16:18:34.051559Z"
    }
   },
   "outputs": [
    {
     "name": "stdout",
     "output_type": "stream",
     "text": [
      "+-------+-------+--------+\n",
      "|user_id|item_id|purchase|\n",
      "+-------+-------+--------+\n",
      "|   1654|  74107|     0.0|\n",
      "|   1654|  89249|     0.0|\n",
      "|   1654|  99982|     0.0|\n",
      "|   1654|  89901|     0.0|\n",
      "|   1654| 100504|     0.0|\n",
      "+-------+-------+--------+\n",
      "only showing top 5 rows\n",
      "\n",
      "CPU times: user 5.87 ms, sys: 394 µs, total: 6.26 ms\n",
      "Wall time: 212 ms\n"
     ]
    }
   ],
   "source": [
    "%%time\n",
    "train_als = (train\n",
    "               .select(\n",
    "                   F.col('user_id').cast('integer').alias('user_id'),\n",
    "                   F.col('item_id').cast('integer').alias('item_id'),\n",
    "                   F.col('purchase').cast('float').alias('purchase')\n",
    "               ).dropna()\n",
    "             \n",
    "              )\n",
    "train_als.show(5)"
   ]
  },
  {
   "cell_type": "code",
   "execution_count": 20,
   "metadata": {
    "ExecuteTime": {
     "end_time": "2020-12-21T16:18:37.056283Z",
     "start_time": "2020-12-21T16:18:37.051416Z"
    }
   },
   "outputs": [
    {
     "name": "stdout",
     "output_type": "stream",
     "text": [
      "root\n",
      " |-- user_id: integer (nullable = true)\n",
      " |-- item_id: integer (nullable = true)\n",
      " |-- purchase: float (nullable = true)\n",
      "\n"
     ]
    }
   ],
   "source": [
    "train_als.printSchema()"
   ]
  },
  {
   "cell_type": "code",
   "execution_count": 21,
   "metadata": {
    "ExecuteTime": {
     "end_time": "2020-12-21T16:18:38.474069Z",
     "start_time": "2020-12-21T16:18:38.332355Z"
    }
   },
   "outputs": [
    {
     "name": "stdout",
     "output_type": "stream",
     "text": [
      "+-------+-------+\n",
      "|user_id|item_id|\n",
      "+-------+-------+\n",
      "|   1654|  94814|\n",
      "|   1654|  93629|\n",
      "|   1654|   9980|\n",
      "|   1654|  95099|\n",
      "|   1654|  11265|\n",
      "+-------+-------+\n",
      "only showing top 5 rows\n",
      "\n",
      "CPU times: user 286 µs, sys: 4.22 ms, total: 4.5 ms\n",
      "Wall time: 136 ms\n"
     ]
    }
   ],
   "source": [
    "%%time\n",
    "test_als = (test\n",
    "               .select(\n",
    "                   F.col('user_id').cast('integer').alias('user_id'),\n",
    "                   F.col('item_id').cast('integer').alias('item_id')\n",
    "               )\n",
    "              )\n",
    "test_als.show(5)"
   ]
  },
  {
   "cell_type": "code",
   "execution_count": 22,
   "metadata": {
    "ExecuteTime": {
     "end_time": "2020-12-21T16:25:34.930267Z",
     "start_time": "2020-12-21T16:18:41.012603Z"
    }
   },
   "outputs": [
    {
     "name": "stdout",
     "output_type": "stream",
     "text": [
      "CPU times: user 594 ms, sys: 174 ms, total: 767 ms\n",
      "Wall time: 6min 53s\n"
     ]
    }
   ],
   "source": [
    "%%time\n",
    "# учим ml.ALS\n",
    "als = ALS(userCol='user_id',\n",
    "          itemCol='item_id',\n",
    "          ratingCol='purchase', \n",
    "          implicitPrefs=True, \n",
    "          numUserBlocks=16, \n",
    "          numItemBlocks=16,\n",
    "          maxIter=20,\n",
    "          seed=42,\n",
    "          nonnegative=True)\n",
    "\n",
    "from pyspark.ml.tuning import TrainValidationSplit, ParamGridBuilder, CrossValidator\n",
    "from pyspark.ml.evaluation import BinaryClassificationEvaluator, RegressionEvaluator\n",
    "\n",
    "grid = (ParamGridBuilder()\n",
    "        .addGrid(als.rank, [103]) ## Уже подобрали оптимум\n",
    "        .addGrid(als.regParam, [.005]) ## Уже подобрали оптимум\n",
    "        .build()\n",
    "       )\n",
    "\n",
    "evaluator = RegressionEvaluator(metricName=\"rmse\", \n",
    "                                labelCol=\"purchase\", \n",
    "                                predictionCol=\"prediction\")\n",
    "\n",
    "cv = CrossValidator(estimator=als,\n",
    "                    estimatorParamMaps=grid,\n",
    "                    evaluator=evaluator,\n",
    "                    numFolds=5\n",
    "                   )\n",
    "\n",
    "\n",
    "als_model = cv.fit(train_als)"
   ]
  },
  {
   "cell_type": "code",
   "execution_count": 23,
   "metadata": {
    "ExecuteTime": {
     "end_time": "2020-12-21T16:26:50.835594Z",
     "start_time": "2020-12-21T16:26:50.812960Z"
    }
   },
   "outputs": [
    {
     "name": "stdout",
     "output_type": "stream",
     "text": [
      "CPU times: user 16 ms, sys: 0 ns, total: 16 ms\n",
      "Wall time: 15.5 ms\n"
     ]
    }
   ],
   "source": [
    "%%time\n",
    "# собираем параметры для следующего подбора\n",
    "als_model_params = [{p.name: v for p, v in m.items()} for m in als_model.getEstimatorParamMaps()]\n",
    "\n",
    "als_model_results = pd.DataFrame.from_dict([{als_model.getEvaluator().getMetricName(): metric, **ps}\n",
    "                                            for ps, metric in zip(als_model_params, als_model.avgMetrics)\n",
    "                                           ]\n",
    "                                          )\\\n",
    "                      .sort_values(by='rmse', ascending=False)\n",
    "als_model_results.to_csv('lab10_als_cv.csv')\n",
    "als_model_results.head(20)"
   ]
  },
  {
   "cell_type": "code",
   "execution_count": 30,
   "metadata": {
    "ExecuteTime": {
     "end_time": "2020-12-21T16:30:39.823473Z",
     "start_time": "2020-12-21T16:30:39.812092Z"
    }
   },
   "outputs": [
    {
     "ename": "AttributeError",
     "evalue": "module 'seaborn' has no attribute 'lineplot'",
     "output_type": "error",
     "traceback": [
      "\u001b[0;31m---------------------------------------------------------------------------\u001b[0m",
      "\u001b[0;31mAttributeError\u001b[0m                            Traceback (most recent call last)",
      "\u001b[0;32m<ipython-input-30-924517e44042>\u001b[0m in \u001b[0;36m<module>\u001b[0;34m()\u001b[0m\n\u001b[0;32m----> 1\u001b[0;31m \u001b[0msns\u001b[0m\u001b[0;34m.\u001b[0m\u001b[0mlineplot\u001b[0m\u001b[0;34m(\u001b[0m\u001b[0mdata\u001b[0m\u001b[0;34m=\u001b[0m\u001b[0mals_model_results\u001b[0m\u001b[0;34m,\u001b[0m \u001b[0mx\u001b[0m\u001b[0;34m=\u001b[0m\u001b[0;34m'rank'\u001b[0m\u001b[0;34m,\u001b[0m \u001b[0my\u001b[0m\u001b[0;34m=\u001b[0m\u001b[0;34m'rmse'\u001b[0m\u001b[0;34m,\u001b[0m \u001b[0mhue\u001b[0m\u001b[0;34m=\u001b[0m\u001b[0;34m'regParam'\u001b[0m\u001b[0;34m)\u001b[0m\u001b[0;34m\u001b[0m\u001b[0m\n\u001b[0m\u001b[1;32m      2\u001b[0m \u001b[0mplt\u001b[0m\u001b[0;34m.\u001b[0m\u001b[0mshow\u001b[0m\u001b[0;34m(\u001b[0m\u001b[0;34m)\u001b[0m\u001b[0;34m\u001b[0m\u001b[0m\n",
      "\u001b[0;31mAttributeError\u001b[0m: module 'seaborn' has no attribute 'lineplot'"
     ]
    }
   ],
   "source": [
    "sns.lineplot(data=als_model_results, x='rank', y='rmse', hue='regParam')\n",
    "plt.show()"
   ]
  },
  {
   "cell_type": "code",
   "execution_count": 32,
   "metadata": {
    "ExecuteTime": {
     "end_time": "2020-12-21T16:35:02.043708Z",
     "start_time": "2020-12-21T16:33:11.028645Z"
    }
   },
   "outputs": [
    {
     "data": {
      "text/plain": [
       "0.9933840201174169"
      ]
     },
     "execution_count": 32,
     "metadata": {},
     "output_type": "execute_result"
    }
   ],
   "source": [
    "# посчитали ROC_AUC\n",
    "chk_val_als = (als_model.bestModel.transform(train_als)).toPandas()\n",
    "\n",
    "from sklearn.metrics import roc_auc_score\n",
    "roc_auc_score(chk_val_als.purchase, chk_val_als.prediction)"
   ]
  },
  {
   "cell_type": "markdown",
   "metadata": {},
   "source": [
    "на скрытом датасете результат 0,89 что тоже хорошо."
   ]
  },
  {
   "cell_type": "code",
   "execution_count": null,
   "metadata": {},
   "outputs": [],
   "source": [
    "# als_model.save(MAIN_PATH + 'model_rank_120_iter_20.mdl')  "
   ]
  },
  {
   "cell_type": "code",
   "execution_count": null,
   "metadata": {},
   "outputs": [],
   "source": [
    "# als_model = ALS_Model.read().load(MAIN_PATH + 'model_rank_120_iter_20.mdl')"
   ]
  },
  {
   "cell_type": "code",
   "execution_count": 31,
   "metadata": {
    "ExecuteTime": {
     "end_time": "2020-12-21T16:33:06.320166Z",
     "start_time": "2020-12-21T16:32:01.372128Z"
    }
   },
   "outputs": [
    {
     "name": "stdout",
     "output_type": "stream",
     "text": [
      "+-------+-------+------------+\n",
      "|user_id|item_id|    purchase|\n",
      "+-------+-------+------------+\n",
      "|   1654|    336|         0.0|\n",
      "|   1654|    678|         0.0|\n",
      "|   1654|    691|         0.0|\n",
      "|   1654|    696| 6.175371E-4|\n",
      "|   1654|    763| 8.159396E-4|\n",
      "|   1654|    795|0.0016494164|\n",
      "|   1654|    861|         0.0|\n",
      "|   1654|   1137|         0.0|\n",
      "|   1654|   1159|         0.0|\n",
      "|   1654|   1428| 0.001444104|\n",
      "|   1654|   1685|0.0014418728|\n",
      "|   1654|   1686|         0.0|\n",
      "|   1654|   1704|9.2851755E-4|\n",
      "|   1654|   2093|         0.0|\n",
      "|   1654|   2343|         0.0|\n",
      "|   1654|   2451|         0.0|\n",
      "|   1654|   2469| 0.028444147|\n",
      "|   1654|   2603|         0.0|\n",
      "|   1654|   2609|         0.0|\n",
      "|   1654|   2621|0.0033966978|\n",
      "+-------+-------+------------+\n",
      "only showing top 20 rows\n",
      "\n",
      "CPU times: user 89.7 ms, sys: 16.1 ms, total: 106 ms\n",
      "Wall time: 1min 4s\n"
     ]
    }
   ],
   "source": [
    "%%time\n",
    "\n",
    "# просто обрезаем верхи больше 1\n",
    "def to_range(x, r):\n",
    "    if x > r[1]:\n",
    "        x = r[1]\n",
    "#     elif x < r[0]:\n",
    "#         x = r[0]\n",
    "    return x\n",
    "\n",
    "preds_als = (als_model.bestModel.transform(test_als)\n",
    "             .rdd\n",
    "             .map(lambda x: (x['user_id'], x['item_id'], to_range(x['prediction'], [0.0,1.0])))\n",
    "             .toDF(['user_id', 'item_id', 'purchase'])\n",
    "             .select(F.col('user_id').cast('integer'), \n",
    "                     F.col('item_id').cast('integer'), \n",
    "                     F.col('purchase').cast('float'))\n",
    "             .na.fill(0)\n",
    "             .orderBy(F.col('user_id').asc(), F.col('item_id').asc())\n",
    "            )\n",
    "            \n",
    "preds_als.show(20)"
   ]
  },
  {
   "cell_type": "code",
   "execution_count": 33,
   "metadata": {
    "ExecuteTime": {
     "end_time": "2020-12-21T16:37:27.701099Z",
     "start_time": "2020-12-21T16:36:03.692899Z"
    }
   },
   "outputs": [],
   "source": [
    "preds_als = preds_als.toPandas()"
   ]
  },
  {
   "cell_type": "code",
   "execution_count": 34,
   "metadata": {
    "ExecuteTime": {
     "end_time": "2020-12-21T16:37:36.710206Z",
     "start_time": "2020-12-21T16:37:35.452517Z"
    }
   },
   "outputs": [
    {
     "data": {
      "text/plain": [
       "0"
      ]
     },
     "execution_count": 34,
     "metadata": {},
     "output_type": "execute_result"
    }
   ],
   "source": [
    "test_als.count() - preds_als.shape[0]"
   ]
  },
  {
   "cell_type": "markdown",
   "metadata": {},
   "source": [
    "###  пишем результат в файл ==============================================="
   ]
  },
  {
   "cell_type": "code",
   "execution_count": 35,
   "metadata": {
    "ExecuteTime": {
     "end_time": "2020-12-21T16:39:13.835084Z",
     "start_time": "2020-12-21T16:39:04.804923Z"
    }
   },
   "outputs": [
    {
     "name": "stdout",
     "output_type": "stream",
     "text": [
      "CPU times: user 8.95 s, sys: 59.6 ms, total: 9.01 s\n",
      "Wall time: 9.03 s\n"
     ]
    }
   ],
   "source": [
    "%%time\n",
    "\n",
    "preds_als.to_csv('ALS_purchase_prediction.csv', index=False)"
   ]
  },
  {
   "cell_type": "code",
   "execution_count": null,
   "metadata": {
    "ExecuteTime": {
     "end_time": "2020-12-21T16:39:13.879533Z",
     "start_time": "2020-12-21T16:39:08.082Z"
    }
   },
   "outputs": [],
   "source": [
    "spark.stop()"
   ]
  },
  {
   "cell_type": "code",
   "execution_count": null,
   "metadata": {},
   "outputs": [],
   "source": []
  }
 ],
 "metadata": {
  "kernelspec": {
   "display_name": "Python 3",
   "language": "python",
   "name": "python3"
  },
  "language_info": {
   "codemirror_mode": {
    "name": "ipython",
    "version": 3
   },
   "file_extension": ".py",
   "mimetype": "text/x-python",
   "name": "python",
   "nbconvert_exporter": "python",
   "pygments_lexer": "ipython3",
   "version": "3.6.5"
  },
  "toc": {
   "base_numbering": 1,
   "nav_menu": {},
   "number_sections": true,
   "sideBar": true,
   "skip_h1_title": false,
   "title_cell": "Table of Contents",
   "title_sidebar": "Contents",
   "toc_cell": false,
   "toc_position": {},
   "toc_section_display": true,
   "toc_window_display": false
  },
  "varInspector": {
   "cols": {
    "lenName": 16,
    "lenType": 16,
    "lenVar": 40
   },
   "kernels_config": {
    "python": {
     "delete_cmd_postfix": "",
     "delete_cmd_prefix": "del ",
     "library": "var_list.py",
     "varRefreshCmd": "print(var_dic_list())"
    },
    "r": {
     "delete_cmd_postfix": ") ",
     "delete_cmd_prefix": "rm(",
     "library": "var_list.r",
     "varRefreshCmd": "cat(var_dic_list()) "
    }
   },
   "types_to_exclude": [
    "module",
    "function",
    "builtin_function_or_method",
    "instance",
    "_Feature"
   ],
   "window_display": false
  }
 },
 "nbformat": 4,
 "nbformat_minor": 4
}
