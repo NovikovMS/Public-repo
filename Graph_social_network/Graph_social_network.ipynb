{
 "cells": [
  {
   "cell_type": "markdown",
   "metadata": {},
   "source": [
    "<img width=\"50px\" align=\"left\" style=\"margin-right:20px\" src=\"../../common/images/npl_logo.png\"> <b>New Professions Lab</b> <br /> Специалист по большим данным"
   ]
  },
  {
   "cell_type": "markdown",
   "metadata": {},
   "source": [
    "# Выпускной Проект"
   ]
  },
  {
   "cell_type": "markdown",
   "metadata": {},
   "source": [
    "# Построить content-based рекомендательную систему товаров интернет-магазина ozon.ru"
   ]
  },
  {
   "cell_type": "markdown",
   "metadata": {},
   "source": [
    "<img width=\"200px\" align=\"left\" src=\"../../common/images/ozon.png\">"
   ]
  },
  {
   "cell_type": "markdown",
   "metadata": {},
   "source": [
    "### Задача"
   ]
  },
  {
   "cell_type": "markdown",
   "metadata": {},
   "source": [
    "Нужно построить рекомендательный алгоритм наилучшей предсказательной точности по метрике NDCG@100.\n",
    "\n",
    "<!-- Подробнее о метрике: https://www.kaggle.com/wiki/NormalizedDiscountedCumulativeGain -->\n",
    "\n",
    "Можно прочесть качественный пост на FastML: http://fastml.com/evaluating-recommender-systems/\n",
    "\n",
    "Или на русском https://habr.com/company/econtenta/blog/303458/\n",
    "\n",
    "Как и в первом проекте, мы рекомендуем сделать всё решение в этом ноутбуке. Но, в отличие от первого проекта, где всё-таки были очерчены примерные способы решения, в данном случае вам предоставляется полная свобода для трактования, исследования и выбора подходов к задаче. Более того, нет гарантий, что задача вообще решаема с необходимой точностью."
   ]
  },
  {
   "cell_type": "markdown",
   "metadata": {},
   "source": [
    "### Обработка данных на вход"
   ]
  },
  {
   "cell_type": "markdown",
   "metadata": {},
   "source": [
    "Для выполнения работы вам следует взять данные из HDFS:"
   ]
  },
  {
   "cell_type": "markdown",
   "metadata": {},
   "source": [
    "```bash\n",
    "$ hadoop fs -ls /labs/project02 \n",
    "Found 6 items\n",
    "-rw-r--r--   3 hdfs hdfs   13550896 2017-04-22 15:04 /labs/project02/catalog_path\n",
    "-rw-r--r--   3 hdfs hdfs  453269519 2017-04-22 15:04 /labs/project02/catalogs\n",
    "-rw-r--r--   3 hdfs hdfs 8726734647 2017-04-22 15:05 /labs/project02/item_details_full\n",
    "-rw-r--r--   3 hdfs hdfs    2240879 2017-04-22 15:05 /labs/project02/ozon_test.txt\n",
    "-rw-r--r--   3 hdfs hdfs   19097164 2017-04-22 15:05 /labs/project02/ozon_train.txt\n",
    "-rw-r--r--   3 hdfs hdfs   12906349 2017-04-22 15:05 /labs/project02/ratings\n",
    "```"
   ]
  },
  {
   "cell_type": "markdown",
   "metadata": {},
   "source": [
    "Итак, давайте разберёмся, какие входные данные мы имеем:\n",
    "\n",
    "#### `ozon_train.txt`\n",
    "\n",
    "Обучающая выборка строчки в json, где для товара `item` мы предоставляем наиболее популярные рекомендации в `true_recoms` (здесь словарь из id рекомендуемого товара и веса — чем больше, тем лучше). Веса означают клики. Текущая рекомендательная система Ozon.ru — это смесь content-based и коллаборативной фильтрации.\n",
    "\n",
    "Пример:\n",
    "\n",
    "```\n",
    "{\"item\":\"24798277\",\"true_recoms\":{\"24798314\":1,\"24798279\":2,\"24798276\":4,\"24798277\":1,\"24798280\":2}}\n",
    "```\n",
    "\n",
    "❗️ В файле есть строчка с 40 000 рекомендаций — это мусор.\n",
    "\n",
    "#### `ozon_test.txt`\n",
    "\n",
    "Тестовая выборка.\n",
    "\n",
    "Пример:\n",
    "\n",
    "```\n",
    "{\"item\": \"28759795\",\"recoms\": null}\n",
    "```\n",
    "\n",
    "#### `item_details_full`\n",
    "\n",
    "Атрибуты товаров.\n",
    "\n",
    "Пример:\n",
    "\n",
    "```\n",
    "{\"id\":\"4381194\",\"name\":\"Графиня де Монсоро - В двух томах - Номерованный экземпляр № 84 (подарочное издание)\",\"annotation\":\"Настоящее издание отпечатано в количестве тысячи пятисот экземпляров, сто из которых изготовлены в переплетах из черной кожи с золотыми обрезами и пронумерованы.  Номер настоящего экземпляра 84.<br>\\r\\n\\\"Графиня де Монсоро\\\" (1846) - одно из самых значительных произведений Александра Дюма. В этом увлекательном авантюрно-историческом романе писатель с замечательным мастерством воскрешает события второй половины XVI века - эпохи религиозных войн и правления Генриха III, последнего короля династии Валуа. История трагической любви благородного графа де Бюсси и прекрасной Дианы де Монсоро развертывается на фоне придворных интриг, политических заговоров и религиозных раздоров. <br>\\r\\nВ настоящем издании впервые публикуются все 245 иллюстраций выдающегося французского художника Мориса Лелуара, выполненные им для парижского издания 1903 года. Книга дополнена очерком А. И. Куприна \\\"Дюма-отец\\\" и обстоятельными комментариями.\",\"parent_id\":\"18255189\"}\n",
    "```\n",
    "\n",
    "❗️Под `parent_id` объединяются модификации одного товара (например, разные айфоны).\n",
    "\n",
    "\n",
    "#### `catalogs`\n",
    "\n",
    "В каких каталогах лежит товар (может быть несколько записей). \n",
    "\n",
    "Пример:\n",
    "\n",
    "```\n",
    "{\"itemid\":\"29040016\",\"catalogid\":\"1179259\"}\n",
    "```\n",
    "\n",
    "#### `catalog_path`\n",
    "\n",
    "Пути для каталогов нижнего уровня (в которых лежат товары) в дереве каталогов. Для каждого каталога отдаётся полный путь до корня. \n",
    "\n",
    "Пример:\n",
    "\n",
    "```\n",
    "{\"catalogid\":1125630,\"catalogpath\":[{\"1125630\":\"Изысканные напитки. Сигары\"},{\"1125623\":\"Книга - лучший подарок!\"},{\"1112250\":\"Архив раздела (Нехудож.лит-ра)\"},{\"1095865\":\"Нехудожественная литература\"}]}\n",
    "```\n",
    "\n",
    "#### `ratings`\n",
    "\n",
    "Средний рейтинг `itemid` (звёздочки). \n",
    "\n",
    "Пример:\n",
    "\n",
    "```\n",
    "{“itemid”: 2658646, “rating”:4.0}\n",
    "```"
   ]
  },
  {
   "cell_type": "markdown",
   "metadata": {},
   "source": [
    "### Обработка данных на выход\n",
    "\n",
    "Выходной файл должен иметь следующий формат (пример для одной строчки). Вес товара тем выше, чем выше его близость:\n",
    "\n",
    "```\n",
    "{\"item\": \"28759795\", \"recoms\": {\"28759801\": 1, \"28759817\": 2, \"28759803\": 13}}\n",
    "```\n",
    "\n",
    "Вы можете использовать любые алгоритмы и их смеси для предсказания рейтингов. Мы будем оценивать точность работы вашего алгоритма, рассчитывая средний NDCG@100 по всем товарам. Это означает, что для каждого `item` в тестовой выборке вы рекомендуете 100 товаров.\n",
    "\n",
    "Чекер выглядит следующим образом:"
   ]
  },
  {
   "cell_type": "markdown",
   "metadata": {},
   "source": [
    "```python\n",
    "lines_number_ok = False\n",
    "score = 0.0\n",
    "\n",
    "file_exists = False\n",
    "test_passed = False\n",
    "true_recs = {}\n",
    "lines_number = 0\n",
    "lines_number_hidden = 0\n",
    "\n",
    "\n",
    "try:\n",
    "    if not cli.startcheck():\n",
    "        exit(-1)\n",
    "\n",
    "    file_exists = cli.checkfileexists(filename)\n",
    "\n",
    "    if file_exists:\n",
    "        with open(cli.getans('test_file_path')) as f:\n",
    "            for line in f:\n",
    "                data = json.loads(line)\n",
    "                true_recs[data['item']] = data['true_recoms']\n",
    "        lines_number_hidden = len(true_recs.keys())\n",
    "        \n",
    "        ndcg_sum = 0\n",
    "        with open(cli.getfilepath(filename)) as f:\n",
    "            for line in f:\n",
    "                lines_number += 1\n",
    "        \n",
    "        if lines_number == len(true_recs.keys()):\n",
    "            lines_number_ok = True\n",
    "            with open(cli.getfilepath(filename)) as f:\n",
    "                for line in f:                     \n",
    "                    data = json.loads(line)     \n",
    "                    trs = true_recs[data['item']]\n",
    "                    tmrs = data['recoms']    \n",
    "\n",
    "                    sorted_trs = sorted(trs.items(), key = lambda x: float(x[1]), reverse = True)\n",
    "                    sorted_tmrs = sorted(tmrs.items(), key = lambda x: float(x[1]), reverse = True)\n",
    "                    dcg = 0\n",
    "                    idcg = 0\n",
    "\n",
    "                    for i in range(len(trs)):\n",
    "                        delta = sorted_trs[i][1]\n",
    "                        if i + 1 != 1:\n",
    "                            delta = delta / float(math.log(i + 1, 2))\n",
    "                        idcg += delta\n",
    "\n",
    "                    for i in range(len(tmrs)):\n",
    "                        if sorted_tmrs[i][0] in trs:                    \n",
    "                            delta = trs[sorted_tmrs[i][0]]\n",
    "                            if i + 1 != 1:\n",
    "                                delta = delta / float(math.log(i + 1, 2))\n",
    "                            dcg += delta\n",
    "\n",
    "                    ndcg_sum += dcg / idcg\n",
    "            score = ndcg_sum / lines_number\n",
    "\n",
    "            if score > 0.1:\n",
    "                test_passed = True\n",
    "\n",
    "```"
   ]
  },
  {
   "cell_type": "markdown",
   "metadata": {},
   "source": [
    "Ваши результаты будут заноситься на обновляемую доску лидеров на [странице Проекта 2](http://lk.newprolab.com/lab/project02)."
   ]
  },
  {
   "cell_type": "markdown",
   "metadata": {},
   "source": [
    "### Проверка"
   ]
  },
  {
   "cell_type": "markdown",
   "metadata": {},
   "source": [
    "Для автоматической проверки необходимо сохранить заполненный предсказанными вами рейтингами файл `ozon_test.txt` в вашей домашней директории под именем `project02.txt`.\n",
    "\n",
    "**ВАЖНО: Для точной проверки сохраняйте порядок и количество строк исходного файла.**\n",
    "\n",
    "<p style=\"color:DarkRed\"><b>✅ Проект будет засчитан, если вы преодолеете порог 0.1.</b></p>"
   ]
  },
  {
   "cell_type": "markdown",
   "metadata": {},
   "source": [
    "### Подсказки\n",
    "\n",
    "1. Обратите внимание на размер датасета.\n",
    "\n",
    "2. Не забывайте мониторить свои ресурсы: если выполняете long-running jobs, сохраняйте результаты в конце и освобождайте память. Помните, что простаивающие процессы, держащие в памяти гигабайты данных, могут отстреливаться.\n",
    "\n",
    "3. “Когда в руках молоток, все начинает напоминать гвоздь”. Думайте outside of the box."
   ]
  },
  {
   "cell_type": "markdown",
   "metadata": {},
   "source": [
    "<img width=\"60px\" align=\"left\" style=\"margin-right:20px\" src=\"../../common/images/npl_logo.png\"> <br /><b>Желаем вам удачи и успехов!</b>"
   ]
  },
  {
   "cell_type": "markdown",
   "metadata": {},
   "source": [
    "## Ваше решение здесь"
   ]
  },
  {
   "cell_type": "code",
   "execution_count": null,
   "metadata": {
    "ExecuteTime": {
     "end_time": "2020-12-15T05:23:22.974283Z",
     "start_time": "2020-12-15T05:23:22.969417Z"
    }
   },
   "outputs": [],
   "source": [
    "# import os\n",
    "# import sys\n",
    "# os.environ[\"PYSPARK_PYTHON\"]='/opt/anaconda/envs/bd9/bin/python'\n",
    "# os.environ[\"SPARK_HOME\"]='/usr/hdp/current/spark2-client'\n",
    "# os.environ[\"PYSPARK_SUBMIT_ARGS\"]='--num-executors 3 pyspark-shell'\n",
    "\n",
    "# spark_home = os.environ.get('SPARK_HOME', None)\n",
    "\n",
    "# sys.path.insert(0, os.path.join(spark_home, 'python'))\n",
    "# sys.path.insert(0, os.path.join(spark_home, 'python/lib/py4j-0.10.7-src.zip'))"
   ]
  },
  {
   "cell_type": "code",
   "execution_count": 1,
   "metadata": {
    "ExecuteTime": {
     "end_time": "2020-12-15T05:24:08.038099Z",
     "start_time": "2020-12-15T05:24:07.311085Z"
    }
   },
   "outputs": [],
   "source": [
    "from pyspark import SparkConf\n",
    "from pyspark.sql import SparkSession\n",
    "from pyspark.sql import functions as F\n",
    "from pyspark.sql.types import *\n",
    "import json\n",
    "\n",
    "from pyspark.ml import Pipeline\n",
    "from pyspark.ml.feature import CountVectorizer, HashingTF, IDF\n",
    "# from pyspark.ml.tuning import CrossValidator, ParamGridBuilder\n",
    "# from pyspark.ml.evaluation import RegressionEvaluator\n",
    "from pyspark.ml.recommendation import ALS, ALSModel\n",
    "import numpy as np\n",
    "import pandas as pd\n",
    "import ast\n",
    "import matplotlib.pyplot as plt\n",
    "from pyspark.sql.window import Window\n",
    "from pyspark.sql.functions import rank, col\n",
    "from tqdm import tqdm"
   ]
  },
  {
   "cell_type": "code",
   "execution_count": 2,
   "metadata": {
    "ExecuteTime": {
     "end_time": "2020-12-15T05:23:52.150402Z",
     "start_time": "2020-12-15T05:23:35.128735Z"
    }
   },
   "outputs": [],
   "source": [
    "spark = (SparkSession\n",
    "         .builder\n",
    "         .config(\"spark.driver.memory\", \"10g\")\n",
    "         .config(\"spark.executor.memory\", \"10g\")\n",
    "         .appName(\"Project02 misha\")\n",
    "         .getOrCreate()\n",
    "        )"
   ]
  },
  {
   "cell_type": "code",
   "execution_count": 3,
   "metadata": {
    "ExecuteTime": {
     "end_time": "2020-12-15T05:24:10.729132Z",
     "start_time": "2020-12-15T05:24:10.719533Z"
    }
   },
   "outputs": [
    {
     "data": {
      "text/html": [
       "\n",
       "            <div>\n",
       "                <p><b>SparkSession - in-memory</b></p>\n",
       "                \n",
       "        <div>\n",
       "            <p><b>SparkContext</b></p>\n",
       "\n",
       "            <p><a href=\"http://ubuntu-advanced-16-64-60gb.mcs.local:4040\">Spark UI</a></p>\n",
       "\n",
       "            <dl>\n",
       "              <dt>Version</dt>\n",
       "                <dd><code>v3.0.1</code></dd>\n",
       "              <dt>Master</dt>\n",
       "                <dd><code>local[*]</code></dd>\n",
       "              <dt>AppName</dt>\n",
       "                <dd><code>Project02 misha</code></dd>\n",
       "            </dl>\n",
       "        </div>\n",
       "        \n",
       "            </div>\n",
       "        "
      ],
      "text/plain": [
       "<pyspark.sql.session.SparkSession at 0x7fe3c5c3db70>"
      ]
     },
     "execution_count": 3,
     "metadata": {},
     "output_type": "execute_result"
    }
   ],
   "source": [
    "spark"
   ]
  },
  {
   "cell_type": "markdown",
   "metadata": {},
   "source": [
    "### Читаем данные"
   ]
  },
  {
   "cell_type": "code",
   "execution_count": 4,
   "metadata": {
    "ExecuteTime": {
     "end_time": "2020-12-15T05:24:58.682007Z",
     "start_time": "2020-12-15T05:24:58.648040Z"
    }
   },
   "outputs": [],
   "source": [
    "# [Row(catalogid='1139010', \n",
    "# itemid='26881367')]\n",
    "\n",
    "catalogs_schema  = StructType([\n",
    "    StructField('catalogid', StringType()),\n",
    "    StructField('itemid', StringType())\n",
    "])\n",
    "\n",
    "catalogs_df = spark.read.json(\"./data/catalogs\",\n",
    "                           schema=catalogs_schema)\n",
    "# catalogs.take(42)"
   ]
  },
  {
   "cell_type": "code",
   "execution_count": 5,
   "metadata": {
    "ExecuteTime": {
     "end_time": "2020-12-15T05:25:30.359917Z",
     "start_time": "2020-12-15T05:25:27.609631Z"
    }
   },
   "outputs": [
    {
     "name": "stdout",
     "output_type": "stream",
     "text": [
      "+--------+------+\n",
      "|  itemid|recoms|\n",
      "+--------+------+\n",
      "|28759795|  null|\n",
      "|32712593|  null|\n",
      "+--------+------+\n",
      "only showing top 2 rows\n",
      "\n"
     ]
    }
   ],
   "source": [
    "# [Row(item='28759795',\n",
    "# recoms=None)]\n",
    "\n",
    "ozon_test_schema = StructType([\n",
    "    StructField(\"item\", StringType()),\n",
    "    StructField(\"recoms\", MapType(StringType(), IntegerType()))\n",
    "])\n",
    "\n",
    "ozon_test = (spark\n",
    "             .read.json(\"./data/ozon_test.txt\", schema=ozon_test_schema)\n",
    "             .withColumnRenamed('item', 'itemid')\n",
    "            )\n",
    "\n",
    "ozon_test.show(2)"
   ]
  },
  {
   "cell_type": "code",
   "execution_count": 6,
   "metadata": {},
   "outputs": [
    {
     "name": "stdout",
     "output_type": "stream",
     "text": [
      "{\"item\": \"28759795\", \"recoms\": null}\n",
      "{\"item\": \"32712593\", \"recoms\": null}\n",
      "{\"item\": \"29616882\", \"recoms\": null}\n",
      "{\"item\": \"6242189\", \"recoms\": null}\n",
      "{\"item\": \"32663967\", \"recoms\": null}\n",
      "{\"item\": \"7976823\", \"recoms\": null}\n",
      "{\"item\": \"32772551\", \"recoms\": null}\n",
      "{\"item\": \"27976812\", \"recoms\": null}\n",
      "{\"item\": \"32788806\", \"recoms\": null}\n",
      "{\"item\": \"32362592\", \"recoms\": null}\n"
     ]
    }
   ],
   "source": [
    "! head -n 10 ./data/ozon_test.txt"
   ]
  },
  {
   "cell_type": "code",
   "execution_count": 7,
   "metadata": {
    "ExecuteTime": {
     "end_time": "2020-12-15T05:25:48.259432Z",
     "start_time": "2020-12-15T05:25:45.840248Z"
    }
   },
   "outputs": [
    {
     "name": "stdout",
     "output_type": "stream",
     "text": [
      "+--------+--------------------+\n",
      "|  itemid|         true_recoms|\n",
      "+--------+--------------------+\n",
      "|31471303|[31471373 -> 1, 3...|\n",
      "|31489016|[31489022 -> 1, 3...|\n",
      "| 5629613|[19063889 -> 14, ...|\n",
      "|24829740|[32610140 -> 1, 2...|\n",
      "|29185962|[1493930 -> 1, 33...|\n",
      "|20063162|[21458776 -> 1, 6...|\n",
      "|30232057|[30232031 -> 1, 3...|\n",
      "|32966349|[26221282 -> 1, 3...|\n",
      "|21199341|[24326908 -> 6, 2...|\n",
      "|20896456|[21206232 -> 5, 2...|\n",
      "| 1149434|[3867974 -> 2, 31...|\n",
      "| 4779816|[4938380 -> 5, 47...|\n",
      "|31375526|[31379185 -> 3, 3...|\n",
      "|24744311|[24744312 -> 1, 2...|\n",
      "|24797999|[21207734 -> 1, 2...|\n",
      "|33039301|[33039287 -> 11, ...|\n",
      "|32663516|[31423287 -> 1, 3...|\n",
      "|17579560|[3836618 -> 1, 18...|\n",
      "| 5549423|[5549424 -> 1, 17...|\n",
      "| 4473202|[24324351 -> 1, 2...|\n",
      "+--------+--------------------+\n",
      "only showing top 20 rows\n",
      "\n"
     ]
    }
   ],
   "source": [
    "# [Row(item='31471303', \n",
    "# true_recoms={'31471373': 1, '31471307': 3, '31471342': 1})]\n",
    "# ❗️ В файле есть строчка с 40 000 рекомендаций — это мусор.\n",
    "\n",
    "\n",
    "ozon_train_schema = StructType([\n",
    "    StructField(\"item\", StringType()),\n",
    "    StructField(\"true_recoms\", MapType(StringType(), IntegerType()))\n",
    "])\n",
    "\n",
    "ozon_train = (spark\n",
    "              .read.json(\"./data/ozon_train.txt\", schema=ozon_train_schema)\n",
    "              .rdd\n",
    "              .map(lambda x: (x[0], x[1], len(x[1])))\n",
    "              .toDF(StructType([\n",
    "                  StructField(\"itemid\", StringType()),\n",
    "                  StructField(\"true_recoms\", MapType(StringType(), IntegerType())), \n",
    "                  StructField(\"cnt\", IntegerType())\n",
    "                  ]))\n",
    "              .filter(F.col('cnt')<40000)\n",
    "              .drop('cnt')\n",
    "             )\n",
    "\n",
    "ozon_train.show()"
   ]
  },
  {
   "cell_type": "markdown",
   "metadata": {},
   "source": [
    "### Готовим данные "
   ]
  },
  {
   "cell_type": "code",
   "execution_count": 9,
   "metadata": {
    "ExecuteTime": {
     "end_time": "2020-12-15T05:25:52.823925Z",
     "start_time": "2020-12-15T05:25:52.156159Z"
    }
   },
   "outputs": [
    {
     "name": "stdout",
     "output_type": "stream",
     "text": [
      "+--------+----------+------+\n",
      "|itemid  |rec_itemid|clicks|\n",
      "+--------+----------+------+\n",
      "|31471303|31471373  |1     |\n",
      "|31471303|31471307  |3     |\n",
      "+--------+----------+------+\n",
      "only showing top 2 rows\n",
      "\n",
      "CPU times: user 5.26 ms, sys: 0 ns, total: 5.26 ms\n",
      "Wall time: 581 ms\n"
     ]
    }
   ],
   "source": [
    "%%time\n",
    "# ozone_train сделали эксплод, к типу |itemid|rec_itemid|clicks|\n",
    "train_exploded_df = (ozon_train\n",
    "                     .select(\n",
    "                         'itemid',\n",
    "                         F.explode_outer('true_recoms')\n",
    "                     )\n",
    "                     .withColumnRenamed('key', 'rec_itemid')\n",
    "                     .withColumnRenamed('value', 'clicks')\n",
    "                    )\n",
    "\n",
    "train_exploded_df.show(2, truncate=False)"
   ]
  },
  {
   "cell_type": "code",
   "execution_count": 10,
   "metadata": {},
   "outputs": [
    {
     "name": "stdout",
     "output_type": "stream",
     "text": [
      "+------+----------+------+\n",
      "|itemid|rec_itemid|clicks|\n",
      "+------+----------+------+\n",
      "+------+----------+------+\n",
      "\n"
     ]
    }
   ],
   "source": [
    "# 28759795 из тест сета\n",
    "train_exploded_df.filter(F.col('itemid')==28759795).show()"
   ]
  },
  {
   "cell_type": "code",
   "execution_count": 11,
   "metadata": {},
   "outputs": [
    {
     "name": "stdout",
     "output_type": "stream",
     "text": [
      "+--------+----------+------+\n",
      "|  itemid|rec_itemid|clicks|\n",
      "+--------+----------+------+\n",
      "|28759796|  28759795|     1|\n",
      "|28759803|  28759795|     2|\n",
      "|31594265|  28759795|     1|\n",
      "|28759792|  28759795|     2|\n",
      "+--------+----------+------+\n",
      "\n"
     ]
    }
   ],
   "source": [
    "# Чекер, 28759795 из тест сета\n",
    "train_exploded_df.filter(F.col('rec_itemid')==28759795).show()"
   ]
  },
  {
   "cell_type": "code",
   "execution_count": 12,
   "metadata": {},
   "outputs": [],
   "source": [
    "# а если нам не хватает взиамности/симметрии в отношении переходов, без этого не собирается пазл...\n",
    "train_df = (train_exploded_df\n",
    "            .select('itemid', 'rec_itemid')\n",
    "            .union(\n",
    "                train_exploded_df\n",
    "                .select(\n",
    "                    F.col('rec_itemid').alias('itemid'),\n",
    "                    F.col('itemid').alias('rec_itemid')\n",
    "                )\n",
    "            )\n",
    "           )\n"
   ]
  },
  {
   "cell_type": "markdown",
   "metadata": {},
   "source": [
    "Данных 9 гб. Времени просчитать 1 неделя. \n",
    "Считать через: \n",
    "cossim по котексту c дроблением ~ 14 дней,\n",
    "ALS подбор параметров на итерацию с дроблением на батчи ~ 1 час 40 мин,\n",
    "Самые быстрые варианты Pagerank или Graph ~ 10 мин.\n",
    "\n",
    "Выберем симметричный граф для начального приближения. Т.к. структура очень похожа на соцсеть..."
   ]
  },
  {
   "cell_type": "code",
   "execution_count": 13,
   "metadata": {},
   "outputs": [
    {
     "name": "stdout",
     "output_type": "stream",
     "text": [
      "+------------------------------------------------------------------+\n",
      "|                                sorted_items_with_common_reference|\n",
      "+------------------------------------------------------------------+\n",
      "|                                    [73933, 76069, 846911, 853379]|\n",
      "|                                       [117436, 4949484, 31465642]|\n",
      "|                                        [136933, 1605683, 2720033]|\n",
      "|                                     [5045541, 33137562, 33229505]|\n",
      "|                               [154741, 1367530, 1403385, 1467197]|\n",
      "|                                       [1804644, 2457681, 3562100]|\n",
      "|                              [2350009, 4418562, 6161700, 8390787]|\n",
      "|                             [2886910, 7578904, 8757239, 19433918]|\n",
      "|                    [1717782, 3994785, 4319859, 5793291, 32273885]|\n",
      "|                                    [19155967, 19437869, 20023681]|\n",
      "|                                      [1477804, 3204253, 19374726]|\n",
      "|                                      [3239644, 6266905, 20335253]|\n",
      "|            [2497953, 3694436, 4721165, 5955256, 7228575, 8141475]|\n",
      "|                                       [2423464, 4519353, 8377826]|\n",
      "|                                    [26312061, 31421681, 31617239]|\n",
      "|                             [1704867, 3935627, 4467399, 26969197]|\n",
      "|                                       [5028553, 5406428, 7419807]|\n",
      "|                             [3043490, 3429937, 7609271, 18097317]|\n",
      "|                                      [2667108, 5146697, 19434083]|\n",
      "|[4915865, 4951264, 5636830, 6243906, 19683778, 24219253, 32091726]|\n",
      "+------------------------------------------------------------------+\n",
      "only showing top 20 rows\n",
      "\n"
     ]
    }
   ],
   "source": [
    "# собираем группы листами после эксплода имеющих больше одного общего соседа\n",
    "items_with_common_reference_df = (\n",
    "    train_exploded_df\n",
    "    .select(F.col('itemid').cast('integer'),\n",
    "         F.col('rec_itemid').cast('integer')\n",
    "        )\n",
    "    .groupBy(\"itemid\")\n",
    "    .agg(F.collect_list(\"rec_itemid\").alias(\"items_with_common_reference\"))\n",
    "    .select(\"items_with_common_reference\")\n",
    "    .where(F.size(F.col(\"items_with_common_reference\")) >= 2)\n",
    "    .select(F.sort_array(\"items_with_common_reference\").alias(\"sorted_items_with_common_reference\"))\n",
    "    .drop(\"items_with_common_reference\")        \n",
    "    )\n",
    "\n",
    "items_with_common_reference_df.show(20, truncate=200)    \n"
   ]
  },
  {
   "cell_type": "code",
   "execution_count": 14,
   "metadata": {},
   "outputs": [
    {
     "name": "stdout",
     "output_type": "stream",
     "text": [
      "+----------------------------------+\n",
      "|sorted_items_with_common_reference|\n",
      "+----------------------------------+\n",
      "|                          28759795|\n",
      "|                          28759795|\n",
      "|                          28759795|\n",
      "|                          28759795|\n",
      "+----------------------------------+\n",
      "\n"
     ]
    }
   ],
   "source": [
    "# чекер на наши таргеты есть 4 группы - круто\n",
    "(items_with_common_reference_df\n",
    " .select(\n",
    " F.explode('sorted_items_with_common_reference').alias('sorted_items_with_common_reference')\n",
    "     )\n",
    " .filter(F.col('sorted_items_with_common_reference') == 28759795)\n",
    "#  .filter(F.col('sorted_items_with_common_reference').isin(itemsToPredict_list))\n",
    " .show())"
   ]
  },
  {
   "cell_type": "code",
   "execution_count": 15,
   "metadata": {},
   "outputs": [
    {
     "data": {
      "text/plain": [
       "[28759795,\n",
       " 32712593,\n",
       " 29616882,\n",
       " 6242189,\n",
       " 32663967,\n",
       " 7976823,\n",
       " 32772551,\n",
       " 27976812,\n",
       " 32788806,\n",
       " 32362592]"
      ]
     },
     "execution_count": 15,
     "metadata": {},
     "output_type": "execute_result"
    }
   ],
   "source": [
    "# собираем список итемов в лист, для которых требуется предсказание\n",
    "itemsToPredict_list = (ozon_test\n",
    "                  .select(F.col(\"itemid\").cast(\"integer\"))\n",
    "                  .rdd\n",
    "                  .map(lambda x : x[0])\n",
    "                  .collect()\n",
    "                 )\n",
    "\n",
    "itemsToPredictBC = spark.sparkContext.broadcast(set(itemsToPredict_list))\n",
    "itemsToPredict_list[0:10]"
   ]
  },
  {
   "cell_type": "code",
   "execution_count": 17,
   "metadata": {},
   "outputs": [],
   "source": [
    "# делаем функцию где собираем треуголную матрицу возможных пар соседей (сосед-сосед) с нашими таргетами\n",
    "def pairs_with_common_reference(list_of_items):\n",
    "    pairs = []\n",
    "    length = len(list_of_items)\n",
    "    # для каждого от 0 до последнего - 1        \n",
    "    for item_1_id in range(0, length):\n",
    "        # для каждого от 1 до последнего\n",
    "        for item_2_id in range(item_1_id + 1, length):\n",
    "            # для не одинаковых item_id\n",
    "            if item_1_id != item_2_id:\n",
    "                # для item_id в нашем таргете\n",
    "                if (list_of_items[item_1_id] in itemsToPredictBC.value or \n",
    "                    list_of_items[item_2_id] in itemsToPredictBC.value):\n",
    "                    # для item_id в нашем таргете\n",
    "                    pairs.append((list_of_items[item_1_id], \n",
    "                                  list_of_items[item_2_id])\n",
    "                                )\n",
    "    return pairs\n",
    "        \n",
    "schema = ArrayType(ArrayType(IntegerType()))    \n",
    "    \n",
    "pairs_with_common_reference_UDF = F.udf(pairs_with_common_reference, schema)"
   ]
  },
  {
   "cell_type": "code",
   "execution_count": 20,
   "metadata": {},
   "outputs": [
    {
     "name": "stdout",
     "output_type": "stream",
     "text": [
      "+----------------------------------------------------------------------------------------------------+\n",
      "|                                                                         pairs_with_common_reference|\n",
      "+----------------------------------------------------------------------------------------------------+\n",
      "|                                                  [[73933, 76069], [73933, 846911], [73933, 853379]]|\n",
      "|                                                             [[136933, 1605683], [1605683, 2720033]]|\n",
      "|                                                           [[3239644, 6266905], [3239644, 20335253]]|\n",
      "|                                                           [[2667108, 5146697], [2667108, 19434083]]|\n",
      "|[[4915865, 19683778], [4951264, 19683778], [5636830, 19683778], [6243906, 19683778], [19683778, 2...|\n",
      "|                                        [[3040732, 3318564], [3040732, 3338819], [3318564, 3338819]]|\n",
      "|                                                         [[2684063, 18477296], [18477296, 18477306]]|\n",
      "|                                       [[5009128, 7625350], [5009128, 8254804], [5009128, 20276591]]|\n",
      "|[[2389223, 6108427], [2681717, 6108427], [4283505, 6108427], [4287256, 6108427], [6108427, 156174...|\n",
      "|[[1515542, 4103762], [4073706, 4103762], [4073854, 4103762], [4073855, 4103762], [4103762, 427977...|\n",
      "|                                        [[3907194, 5511990], [3938305, 5511990], [4648908, 5511990]]|\n",
      "|[[2500590, 4190397], [4190397, 6253299], [4190397, 7624245], [4190397, 8208890], [4190397, 207426...|\n",
      "|                                                          [[4174804, 18649470], [5280178, 18649470]]|\n",
      "|[[9595891, 9596439], [9595891, 17579560], [9595891, 18045327], [9596439, 17579560], [9596439, 180...|\n",
      "|[[1494025, 19863711], [2458182, 19863711], [5676581, 19863711], [6082543, 19863711], [8740813, 19...|\n",
      "|[[5386856, 5386890], [5386856, 5386894], [5386856, 5386987], [5386856, 5608956], [5386856, 560896...|\n",
      "|                                        [[3290202, 5301371], [4209694, 5301371], [5301371, 7366488]]|\n",
      "|                                                          [[1524537, 21238925], [4073084, 21238925]]|\n",
      "|[[3301008, 5629860], [3301008, 20001268], [4539777, 5629860], [4539777, 20001268], [4694251, 5629...|\n",
      "|                                                           [[5046919, 5434741], [5046919, 21450045]]|\n",
      "+----------------------------------------------------------------------------------------------------+\n",
      "only showing top 20 rows\n",
      "\n"
     ]
    }
   ],
   "source": [
    "# примениил функцию и посчитали пары соседей, смотрим пары\n",
    "common_reference_counts = (items_with_common_reference_df\n",
    "                           .select(pairs_with_common_reference_UDF('sorted_items_with_common_reference').alias(\"pairs_with_common_reference\"))\n",
    "                           .where(F.size(F.col(\"pairs_with_common_reference\")) > 0)\n",
    "                          )    \n",
    "common_reference_counts.show(20, truncate=100)"
   ]
  },
  {
   "cell_type": "code",
   "execution_count": 21,
   "metadata": {},
   "outputs": [
    {
     "name": "stdout",
     "output_type": "stream",
     "text": [
      "+--------------------------+-----+\n",
      "|pair_with_common_reference|count|\n",
      "+--------------------------+-----+\n",
      "|        [5608956, 5608964]|    1|\n",
      "|        [6299919, 7597192]|    1|\n",
      "|       [7279123, 23896153]|    1|\n",
      "|      [19126405, 19126464]|    1|\n",
      "|      [18777684, 18777707]|    1|\n",
      "|      [27711801, 28840211]|    2|\n",
      "|      [19158550, 22443578]|    3|\n",
      "|      [20312682, 20896103]|    3|\n",
      "|      [20393919, 20393988]|    2|\n",
      "|      [21211828, 25632037]|    1|\n",
      "|       [5409862, 27986616]|    5|\n",
      "|      [26467134, 32498498]|    1|\n",
      "|       [4961527, 27915134]|    1|\n",
      "|      [18518944, 29739007]|    1|\n",
      "|      [29174703, 29898655]|    1|\n",
      "|      [29276612, 32486302]|    1|\n",
      "|      [18424153, 31083734]|    1|\n",
      "|      [24916405, 32654829]|    1|\n",
      "|      [24931171, 32611294]|    1|\n",
      "|      [28345971, 30708407]|    1|\n",
      "+--------------------------+-----+\n",
      "only showing top 20 rows\n",
      "\n"
     ]
    }
   ],
   "source": [
    "# пара итемов и их счетчик их повторений по датасету\n",
    "target = (common_reference_counts\n",
    "     .withColumn(\"pair_with_common_reference\", F.explode(\"pairs_with_common_reference\"))\n",
    "     .drop(F.col(\"pairs_with_common_reference\"))\n",
    "     .groupBy(F.col(\"pair_with_common_reference\"))\n",
    "     .count()\n",
    "    )\n",
    "\n",
    "target.show(20, truncate=100)"
   ]
  },
  {
   "cell_type": "code",
   "execution_count": 22,
   "metadata": {},
   "outputs": [
    {
     "data": {
      "text/plain": [
       "1291846"
      ]
     },
     "execution_count": 22,
     "metadata": {},
     "output_type": "execute_result"
    }
   ],
   "source": [
    "target.count() # 1,3кк матрицу с такой стороной будет очень тяжело посчитать в обычном ML"
   ]
  },
  {
   "cell_type": "code",
   "execution_count": 45,
   "metadata": {},
   "outputs": [
    {
     "name": "stdout",
     "output_type": "stream",
     "text": [
      "+---------+---------+-----+\n",
      "|item_1_id|item_2_id|count|\n",
      "+---------+---------+-----+\n",
      "| 33057866| 33191212|   26|\n",
      "| 33191005| 33191212|   26|\n",
      "| 32871593| 33191005|   26|\n",
      "| 32103777| 33191212|   25|\n",
      "| 32871593| 33191212|   25|\n",
      "| 33057866| 33191005|   25|\n",
      "| 31258986| 31258987|   25|\n",
      "| 33191212| 33405980|   25|\n",
      "| 32538709| 33191212|   24|\n",
      "| 31258987| 31668990|   24|\n",
      "| 32167310| 32871593|   24|\n",
      "| 32871593| 32934171|   24|\n",
      "| 27961959| 31619658|   24|\n",
      "| 32167310| 33191212|   24|\n",
      "| 33191212| 33255573|   24|\n",
      "| 33191005| 33405980|   24|\n",
      "| 27766016| 29202403|   24|\n",
      "| 33191212| 33300839|   24|\n",
      "| 28006379| 28006396|   23|\n",
      "| 29091413| 33191212|   23|\n",
      "+---------+---------+-----+\n",
      "only showing top 20 rows\n",
      "\n"
     ]
    }
   ],
   "source": [
    "# собрали дф с соседями, максимум пар 26, дополнительно не пишем окно для ограничения числа\n",
    "target_df = (target             \n",
    "             .select(\n",
    "                 target.pair_with_common_reference[0].alias('item_1_id'),\n",
    "                 target.pair_with_common_reference[1].alias('item_2_id'),\n",
    "                 'count'\n",
    "                    )\n",
    "             .orderBy(F.col('count').desc())\n",
    "             )\n",
    "target_df.show(20)"
   ]
  },
  {
   "cell_type": "code",
   "execution_count": 83,
   "metadata": {},
   "outputs": [
    {
     "name": "stdout",
     "output_type": "stream",
     "text": [
      "+---------+----------------------------------------------------------------------------------------------------+\n",
      "|item_1_id|                                                                                              recoms|\n",
      "+---------+----------------------------------------------------------------------------------------------------+\n",
      "|    73933|[157266 -> 1, 846911 -> 1, 75719 -> 1, 75531 -> 1, 154430 -> 1, 75991 -> 1, 76239 -> 1, 74287 -> ...|\n",
      "|    77234|                                                                        [4037290 -> 1, 2906836 -> 1]|\n",
      "|   117437|                                                                                     [31333005 -> 1]|\n",
      "|   133018|                                                                       [33373690 -> 1, 6840573 -> 1]|\n",
      "|   140266|                                                                       [30681471 -> 1, 8535800 -> 1]|\n",
      "|   154202|                                                                        [2263148 -> 1, 1605683 -> 1]|\n",
      "|   158257|          [28062291 -> 1, 25908412 -> 1, 26312264 -> 1, 30262708 -> 1, 32872216 -> 1, 29630360 -> 1]|\n",
      "|   158593|                                                                                     [27883343 -> 1]|\n",
      "|  1012902|[2650597 -> 3, 4295162 -> 3, 3078298 -> 3, 19385109 -> 2, 23041582 -> 2, 23996149 -> 2, 4172526 -...|\n",
      "|  1307463|                                                                                      [5403014 -> 1]|\n",
      "+---------+----------------------------------------------------------------------------------------------------+\n",
      "only showing top 10 rows\n",
      "\n"
     ]
    }
   ],
   "source": [
    "# смапили соседей + счетчик ближайших\n",
    "target_df_mapped = (target_df_topn\n",
    "                     .groupby(\"item_1_id\")\n",
    "                     .agg(F.map_from_arrays(F.collect_list(\"item_2_id\"),F.collect_list(\"count\")).alias(\"recoms\"))\n",
    "                    )\n",
    "\n",
    "target_df_mapped.show(10, truncate=100)"
   ]
  },
  {
   "cell_type": "code",
   "execution_count": 85,
   "metadata": {},
   "outputs": [
    {
     "name": "stdout",
     "output_type": "stream",
     "text": [
      "root\n",
      " |-- itemid: string (nullable = true)\n",
      " |-- recoms: map (nullable = true)\n",
      " |    |-- key: string\n",
      " |    |-- value: integer (valueContainsNull = true)\n",
      "\n"
     ]
    }
   ],
   "source": [
    "ozon_test.printSchema()"
   ]
  },
  {
   "cell_type": "code",
   "execution_count": 103,
   "metadata": {},
   "outputs": [
    {
     "name": "stdout",
     "output_type": "stream",
     "text": [
      "+-------+----------------------------------------------------------------------------------------------------+\n",
      "|   item|                                                                                              recoms|\n",
      "+-------+----------------------------------------------------------------------------------------------------+\n",
      "|  73933|[157953 -> 1, 76069 -> 1, 853288 -> 1, 75719 -> 1, 75531 -> 1, 853379 -> 1, 74287 -> 1, 76239 -> ...|\n",
      "| 119517|                                                                                                  []|\n",
      "|1012902|[28193325 -> 1, 27809323 -> 1, 27881263 -> 1, 32114028 -> 1, 30227146 -> 1, 27960992 -> 1, 332650...|\n",
      "|1353799|                                                                                                  []|\n",
      "|1486867|                                                                        [2639932 -> 1, 2428047 -> 1]|\n",
      "|1562184|                                                                                                  []|\n",
      "|1594277|                                           [2448101 -> 1, 4181179 -> 1, 17434367 -> 1, 1941875 -> 1]|\n",
      "|1691352|                                                                        [5539281 -> 1, 7697260 -> 1]|\n",
      "|2226450|[3040876 -> 1, 3040877 -> 1, 3040875 -> 1, 5103995 -> 1, 3040872 -> 1, 2263992 -> 1, 2425935 -> 1...|\n",
      "|2312581|                                            [3964092 -> 1, 2660237 -> 1, 2660239 -> 1, 2886851 -> 1]|\n",
      "+-------+----------------------------------------------------------------------------------------------------+\n",
      "only showing top 10 rows\n",
      "\n"
     ]
    }
   ],
   "source": [
    "# к ozon_test приджойнили результаты и убрали null\n",
    "output_df = (ozon_test\n",
    "             .alias('a')\n",
    "             .join(target_df_mapped.alias('b'), F.col('a.itemid') == F.col('b.item_1_id'), 'left')\n",
    "             .select(\n",
    "             F.col('a.itemid').alias('item'),\n",
    "             F.col('b.recoms').alias('recoms')\n",
    "             )\n",
    "             .rdd\n",
    "             .map(lambda x: (x['item'], x['recoms'] or {}))\n",
    "             .toDF(ozon_test.schema)\n",
    "             .withColumnRenamed('itemid', 'item')\n",
    "            )\n",
    "\n",
    "output_df.show(10, truncate=100)"
   ]
  },
  {
   "cell_type": "code",
   "execution_count": 104,
   "metadata": {},
   "outputs": [
    {
     "data": {
      "text/plain": [
       "60956"
      ]
     },
     "execution_count": 104,
     "metadata": {},
     "output_type": "execute_result"
    }
   ],
   "source": [
    "output_df.count()"
   ]
  },
  {
   "cell_type": "code",
   "execution_count": 102,
   "metadata": {},
   "outputs": [
    {
     "data": {
      "text/plain": [
       "60956"
      ]
     },
     "execution_count": 102,
     "metadata": {},
     "output_type": "execute_result"
    }
   ],
   "source": [
    "ozon_test.count()"
   ]
  },
  {
   "cell_type": "code",
   "execution_count": 105,
   "metadata": {},
   "outputs": [],
   "source": [
    "output_df.toPandas().to_json('project02.txt', orient='records', lines=True)"
   ]
  },
  {
   "cell_type": "code",
   "execution_count": 106,
   "metadata": {},
   "outputs": [
    {
     "name": "stdout",
     "output_type": "stream",
     "text": [
      "{\"item\":\"73933\",\"recoms\":{\"154430\":1,\"157953\":1,\"75531\":1,\"74287\":1,\"853334\":1,\"853379\":1,\"853288\":1,\"75292\":1,\"75991\":1,\"76069\":1,\"77302\":1,\"76239\":1,\"846911\":1,\"157266\":1,\"75719\":1}}\n"
     ]
    }
   ],
   "source": [
    "!head -n 1 project02.txt"
   ]
  },
  {
   "cell_type": "code",
   "execution_count": 98,
   "metadata": {},
   "outputs": [
    {
     "name": "stdout",
     "output_type": "stream",
     "text": [
      "{\"item\": \"31471303\", \"true_recoms\": {\"31471373\": 1, \"31471307\": 3, \"31471342\": 1}}\n"
     ]
    }
   ],
   "source": [
    "!head -n 1 ./data/ozon_train.txt"
   ]
  },
  {
   "cell_type": "code",
   "execution_count": 93,
   "metadata": {},
   "outputs": [
    {
     "name": "stdout",
     "output_type": "stream",
     "text": [
      "{\"item\": \"28759795\", \"recoms\": null}\n"
     ]
    }
   ],
   "source": [
    "!head -n 1 ./data/ozon_test.txt"
   ]
  },
  {
   "cell_type": "code",
   "execution_count": null,
   "metadata": {},
   "outputs": [],
   "source": [
    "## Грузим результат в чекер.   \n",
    "## Graph дал 0,12%  при 0,0005 сек/ит. \n",
    "## Быстро. Задание выполненио малой кровью."
   ]
  },
  {
   "cell_type": "code",
   "execution_count": null,
   "metadata": {},
   "outputs": [],
   "source": [
    "## Другие результаты с потока у людей\n",
    "## ALS дал 0,19% при 0,006 сек/ит\n",
    "## cossim по контексту дал 0,31% при 1,368 сек/ит"
   ]
  },
  {
   "cell_type": "code",
   "execution_count": null,
   "metadata": {
    "ExecuteTime": {
     "end_time": "2020-11-24T14:20:31.838462Z",
     "start_time": "2020-11-24T14:20:31.019643Z"
    }
   },
   "outputs": [],
   "source": [
    "spark.stop()"
   ]
  },
  {
   "cell_type": "code",
   "execution_count": null,
   "metadata": {},
   "outputs": [],
   "source": []
  }
 ],
 "metadata": {
  "kernelspec": {
   "display_name": "Python 3",
   "language": "python",
   "name": "python3"
  },
  "language_info": {
   "codemirror_mode": {
    "name": "ipython",
    "version": 3
   },
   "file_extension": ".py",
   "mimetype": "text/x-python",
   "name": "python",
   "nbconvert_exporter": "python",
   "pygments_lexer": "ipython3",
   "version": "3.6.5"
  },
  "toc": {
   "base_numbering": 1,
   "nav_menu": {},
   "number_sections": true,
   "sideBar": true,
   "skip_h1_title": false,
   "title_cell": "Table of Contents",
   "title_sidebar": "Contents",
   "toc_cell": false,
   "toc_position": {},
   "toc_section_display": true,
   "toc_window_display": false
  },
  "varInspector": {
   "cols": {
    "lenName": 16,
    "lenType": 16,
    "lenVar": 40
   },
   "kernels_config": {
    "python": {
     "delete_cmd_postfix": "",
     "delete_cmd_prefix": "del ",
     "library": "var_list.py",
     "varRefreshCmd": "print(var_dic_list())"
    },
    "r": {
     "delete_cmd_postfix": ") ",
     "delete_cmd_prefix": "rm(",
     "library": "var_list.r",
     "varRefreshCmd": "cat(var_dic_list()) "
    }
   },
   "types_to_exclude": [
    "module",
    "function",
    "builtin_function_or_method",
    "instance",
    "_Feature"
   ],
   "window_display": false
  }
 },
 "nbformat": 4,
 "nbformat_minor": 4
}
