{
 "cells": [
  {
   "cell_type": "code",
   "execution_count": 27,
   "metadata": {
    "collapsed": true,
    "pycharm": {
     "name": "#%%\n"
    }
   },
   "outputs": [],
   "source": [
    "import numpy as np\n",
    "import pandas as pd\n",
    "import pyarrow.parquet as pq\n",
    "from tqdm import tqdm\n",
    "import warnings\n",
    "warnings.filterwarnings(\"ignore\", category=UserWarning)"
   ]
  },
  {
   "cell_type": "code",
   "execution_count": 28,
   "metadata": {
    "pycharm": {
     "name": "#%%\n"
    }
   },
   "outputs": [],
   "source": [
    "src_train_parquet = 'ke_test_data/train.parquet'\n",
    "src_test_parquet = 'ke_test_data/test.parquet'\n",
    "src_categories_tree = 'ke_test_data/categories_tree.csv'"
   ]
  },
  {
   "cell_type": "code",
   "execution_count": 29,
   "metadata": {
    "pycharm": {
     "name": "#%%\n"
    }
   },
   "outputs": [],
   "source": [
    "categories_tree = pd.read_csv(src_categories_tree)\n",
    "train = pq.read_table(src_train_parquet).to_pandas()\n",
    "test = pq.read_table(src_test_parquet).to_pandas()"
   ]
  },
  {
   "cell_type": "code",
   "execution_count": 30,
   "metadata": {
    "pycharm": {
     "name": "#%%\n"
    }
   },
   "outputs": [],
   "source": [
    "def get_text_data_func(x, sep=' '):\n",
    "    # дергает текстовые данные из входящего датафрейма\n",
    "    result = x.copy()\n",
    "    result['text'] = ''\n",
    "    for i, key in enumerate(model_params['text']):\n",
    "        if i != 0:\n",
    "            result['text'] = result['text'] + sep\n",
    "        result['text'] = result['text'] + result[key].astype(str)\n",
    "\n",
    "    return result['text'].to_numpy()\n",
    "\n",
    "def get_numeric_data_func(x):\n",
    "    # дергает числовые данные из входящего датафрейма\n",
    "    x = x[model_params['numeric']].copy()\n",
    "    column = model_params['numeric'][0]\n",
    "    x[column] = x[column].apply(hist_edges_mapper)\n",
    "    return pd.DataFrame(x['rating'].to_list()).to_numpy()"
   ]
  },
  {
   "cell_type": "code",
   "execution_count": 31,
   "metadata": {
    "pycharm": {
     "name": "#%%\n"
    }
   },
   "outputs": [
    {
     "name": "stderr",
     "output_type": "stream",
     "text": [
      "Строим дерево: 3370it [00:00, 14727.65it/s]"
     ]
    },
    {
     "name": "stdout",
     "output_type": "stream",
     "text": [
      "Число нод в дереве: 3373\n"
     ]
    },
    {
     "name": "stderr",
     "output_type": "stream",
     "text": [
      "\n"
     ]
    }
   ],
   "source": [
    "# дерево каталогов\n",
    "import networkx as nx\n",
    "DG = nx.DiGraph()\n",
    "\n",
    "\n",
    "for k, v in tqdm(categories_tree.iterrows(), desc='Строим дерево'):\n",
    "    DG.add_edge(v['parent_id'], v['id'])\n",
    "\n",
    "\n",
    "def all_predcestors(g, id, max_len=7):\n",
    "    # циклично запрашиваем предков, пока их не будет совсем\n",
    "    all_preds = [id]\n",
    "    while True:\n",
    "        preds = list(g.predecessors(id))\n",
    "        if len(preds) == 0:\n",
    "            break\n",
    "        all_preds.append(preds[0])\n",
    "        id = all_preds[-1]\n",
    "\n",
    "    # доводим до максимального размера, чтобы вмещалось в tensor/array\n",
    "    # паддинг -1 (0 занят нашим каталогом, мы позже их закодируем, но всеравно...)\n",
    "    if len(all_preds) < max_len:\n",
    "        all_preds = [-1] * (max_len - len(all_preds)) + all_preds\n",
    "    return all_preds[::-1]\n",
    "\n",
    "catalog_cnt = len(DG.nodes)\n",
    "\n",
    "print(f'Число нод в дереве: {catalog_cnt}')"
   ]
  },
  {
   "cell_type": "code",
   "execution_count": 32,
   "metadata": {
    "pycharm": {
     "name": "#%%\n"
    }
   },
   "outputs": [],
   "source": [
    "# прогресс бары внутри пайплайна\n",
    "num_pbar = None\n",
    "text_pbar = None\n",
    "\n",
    "def start_num_pbar(x):\n",
    "    global num_pbar\n",
    "    num_pbar = tqdm(total=len(x), desc='Nums processing')\n",
    "    return x\n",
    "\n",
    "\n",
    "def shut_num_pbar(x):\n",
    "    global num_pbar\n",
    "    num_pbar.close()\n",
    "    return x\n",
    "\n",
    "\n",
    "def start_text_pbar(x):\n",
    "    global text_pbar\n",
    "    text_pbar = tqdm(total=len(x), desc='Text processing')\n",
    "    return x\n",
    "\n",
    "\n",
    "def shut_text_pbar(x):\n",
    "    global text_pbar\n",
    "    text_pbar.close()\n",
    "    return x"
   ]
  },
  {
   "cell_type": "code",
   "execution_count": 33,
   "metadata": {
    "pycharm": {
     "name": "#%%\n"
    }
   },
   "outputs": [],
   "source": [
    "# диапазон значений рейтингов [0:5] разбили на 6 равных диапазонов\n",
    "hist_bin_edges = list(np.histogram_bin_edges(train['rating'], bins=6))\n",
    "\n",
    "def hist_edges_mapper(val, bin_borders=hist_bin_edges):\n",
    "    # мэпим значения в диапазоны гистограммы\n",
    "    resval = []\n",
    "    for i in range(len(bin_borders)-1):\n",
    "        if bin_borders[i] <= val < bin_borders[i+1]:\n",
    "            resval.append(1)\n",
    "        elif i == len(bin_borders) - 2:\n",
    "            if val == bin_borders[i+1]:\n",
    "                resval.append(1)\n",
    "            else:\n",
    "                resval.append(0)\n",
    "        else:\n",
    "            resval.append(0)\n",
    "\n",
    "    global num_pbar\n",
    "    num_pbar.update(1)\n",
    "\n",
    "    return resval"
   ]
  },
  {
   "cell_type": "code",
   "execution_count": 34,
   "metadata": {
    "pycharm": {
     "name": "#%%\n"
    }
   },
   "outputs": [
    {
     "name": "stderr",
     "output_type": "stream",
     "text": [
      "[nltk_data] Downloading package stopwords to /home/kit-\n",
      "[nltk_data]     kat/nltk_data...\n",
      "[nltk_data]   Package stopwords is already up-to-date!\n",
      "[nltk_data] Downloading package punkt to /home/kit-kat/nltk_data...\n",
      "[nltk_data]   Package punkt is already up-to-date!\n"
     ]
    }
   ],
   "source": [
    "# свой токенайзер + стэммер  (так мы уменьшим размерность с 80к до 50к уникальных токенов\n",
    "import nltk\n",
    "from nltk.stem.snowball import SnowballStemmer\n",
    "from nltk.corpus import stopwords\n",
    "import re\n",
    "\n",
    "regex = r\"[\\s\\|$:*!?#:,.(){}\\\"\\'\\$\\^\\/\\\\\\[\\]\\-+”“%¡¿&;«»`\\d]\"\n",
    "\n",
    "punctuation = set(['\\t','\\n','\\\\', '', 'none'])\n",
    "\n",
    "nltk.download(\"stopwords\")\n",
    "nltk.download('punkt')\n",
    "\n",
    "russian_stopwords = set(stopwords.words(\"russian\"))  # список стоп слов  -- не подошел.\n",
    "r_num_ponctuation = set(punctuation)  # список символов (не букв и не цифр)\n",
    "\n",
    "\n",
    "class StemTokenizer:\n",
    "    # Стэммер вычленяет корни слов\n",
    "    def __init__(self):\n",
    "        self.stemer = SnowballStemmer('russian')\n",
    "    def __call__(self, doc):\n",
    "        # 1) делаем список токенов через regexp\n",
    "        # 2) делаем стэмминг корней слов\n",
    "        # 3) фильтруем полученные леммы через стоп слова\n",
    "        # 4) возвращаем список\n",
    "        regex_num_ponctuation = punctuation\n",
    "\n",
    "        resval = [self.stemer.stem(t) for t in re.split(regex, doc.lower())\n",
    "                if t not in regex_num_ponctuation and len(t) >= model_params['t_min_len']]\n",
    "\n",
    "        global text_pbar\n",
    "        text_pbar.update(1)\n",
    "\n",
    "        return resval\n",
    "\n",
    "\n",
    "from pymystem3 import Mystem\n",
    "\n",
    "class LemmaTokenizer():\n",
    "    # Лемматайзер приводит слова к неопределенному виду (сохраняется некоторый контекст)\n",
    "    # почти в два раза медленнее и на ~0,001 дает точности больше чем стэмер\n",
    "    # не пиклится :(\n",
    "    def __init__(self):\n",
    "        self.mystem = Mystem()\n",
    "\n",
    "    def __call__(self, doc):\n",
    "        # 1) делаем список токенов через regexp\n",
    "        # 2) делаем лемминг слов\n",
    "        # 3) фильтруем полученные леммы через стоп слова\n",
    "        # 4) возвращаем список\n",
    "\n",
    "        resval = []\n",
    "        for t in re.split(regex, doc.lower()):\n",
    "            lemma = self.mystem.lemmatize(t)  # позвращает список лемм\n",
    "            # tokens.extend(lemma)\n",
    "            for tt in lemma:\n",
    "                if tt not in r_num_ponctuation and len(tt) >= model_params['t_min_len']:\n",
    "                    resval.append(tt)\n",
    "\n",
    "        global text_pbar\n",
    "        text_pbar.update(1)\n",
    "\n",
    "        return resval"
   ]
  },
  {
   "cell_type": "code",
   "execution_count": 35,
   "metadata": {
    "pycharm": {
     "name": "#%%\n"
    }
   },
   "outputs": [],
   "source": [
    "# делаем словарик позиционный - энкодер (для всех каталогов)\n",
    "# Планируемый классификатор может предсказывать любой каталога при наличии данных в трейн сете.\n",
    "# Использовать будем только в конце. Лишние пустые категории нам в трейне щас не нужны.\n",
    "catalogs = sorted(list(DG.nodes))\n",
    "cat2id = {}\n",
    "for i, cat in enumerate(catalogs):\n",
    "    cat2id[cat] = i"
   ]
  },
  {
   "cell_type": "code",
   "execution_count": 36,
   "metadata": {
    "pycharm": {
     "name": "#%%\n"
    }
   },
   "outputs": [],
   "source": [
    "# бинарные кодеры\\декодеры\n",
    "def dummify_labels(df_in, column, column_dict, catalogs):\n",
    "    \"\"\"\n",
    "    разбивает столбец датафрейма на бинарные столбцы из списка. Просто принцип onehot\n",
    "    \"\"\"\n",
    "    y = df_in[column].copy()\n",
    "    # ушли в \"примитивы\", поиск по пандасу значительно дольше.\n",
    "    out = np.zeros((len(y.index), len(catalogs)), dtype=float)\n",
    "\n",
    "    for i, cat in enumerate(y[column[0]].values):\n",
    "        cat_position = column_dict[cat]\n",
    "        out[i][cat_position] = 1\n",
    "\n",
    "    out = pd.DataFrame(out, index=y.index, columns=catalogs).astype(int)\n",
    "\n",
    "    return out\n",
    "\n",
    "def _dummify_labels(df_in, column, column_dict, catalogs):\n",
    "    \"\"\"\n",
    "    разбивает столбец датафрейма на бинарные столбцы из списка предков по кажому элементу\n",
    "    Используем только для подсчета иерархического F\n",
    "    \"\"\"\n",
    "    y = df_in[column].copy()\n",
    "    # ушли в \"примитивы\", поиск по пандасу значительно дольше.\n",
    "    out = np.zeros((len(y.index), len(catalogs)), dtype=float)\n",
    "\n",
    "    for i, cat in enumerate(y[model_params['labels'][0]].values):\n",
    "        branch = all_predcestors(DG, cat)\n",
    "        for leaf in branch:\n",
    "            if leaf != -1:\n",
    "                cat_position = column_dict[leaf]\n",
    "                out[i][cat_position] = 1\n",
    "\n",
    "    out = pd.DataFrame(out, index=y.index, columns=catalogs)\n",
    "\n",
    "    return out\n",
    "\n",
    "def undummify_labels(df_dimmies, column, column_list):\n",
    "    \"\"\"\n",
    "    возвращает бинарные столбцы таргета в исходный один столбец.\n",
    "    \"\"\"\n",
    "    y = df_dimmies.to_numpy()\n",
    "    out = np.argmax(y, axis=1)\n",
    "    out = np.array([column_list[i] for i in out])\n",
    "\n",
    "    return pd.DataFrame(out, columns=column, index=df_dimmies.index)"
   ]
  },
  {
   "cell_type": "code",
   "execution_count": 37,
   "metadata": {
    "pycharm": {
     "name": "#%%\n"
    }
   },
   "outputs": [],
   "source": [
    "# Все числовые параметры моделей подобраны.\n",
    "# GridSearch делать не стал. Все в ручную, т.к. слишком много трансформаций при валидации\n",
    "# Машина позволяет запускать по 10 тетрадок одновременно\n",
    "\n",
    "# random_seed = np.random.randint(0,2**23)\n",
    "random_seed = 262898\n",
    "model_params = {'text': ['title', 'short_description', 'name_value_characteristics'],\n",
    "                'numeric': ['rating'],\n",
    "                'labels': ['category_id'],\n",
    "                'random_split':{'test_size': 0.25,\n",
    "                                'random_state': 42},\n",
    "                't_min_len': 2,\n",
    "                'vectorizer': {'ngram_range': (1, 2),\n",
    "                               'max_features': 90_000},\n",
    "                'hist_bin_edges': hist_bin_edges,\n",
    "                'tree':\n",
    "                    {'criterion':'entropy',\n",
    "                     'max_depth':8,\n",
    "                     'random_state':random_seed,\n",
    "                    },\n",
    "                # 'r_forest':\n",
    "                #     {'n_estimators':100,\n",
    "                #      'criterion':'entropy',\n",
    "                #      'max_depth':8,\n",
    "                #      'random_state':random_seed,\n",
    "                #     },\n",
    "                # 'catboost':{\n",
    "                #     'loss_function':'CrossEntropy',\n",
    "                #     'custom_metric':'AUC',\n",
    "                #     'iterations':300,\n",
    "                #     'depth':8,\n",
    "                #     'learning_rate':0.01,\n",
    "                #     'metric_period':10,\n",
    "                #     'verbose':100,\n",
    "                #     # 'silent':True,\n",
    "                #     'early_stopping_rounds':20,\n",
    "                #     'train_dir':'catboost_train_logs/',\n",
    "                #     'task_type':'GPU',\n",
    "                #     }\n",
    "                }"
   ]
  },
  {
   "cell_type": "code",
   "execution_count": 38,
   "metadata": {
    "pycharm": {
     "name": "#%%\n"
    }
   },
   "outputs": [],
   "source": [
    "from sklearn.feature_selection import chi2, SelectKBest\n",
    "from sklearn.pipeline import Pipeline, FeatureUnion\n",
    "from sklearn.preprocessing import FunctionTransformer\n",
    "from sklearn.impute import SimpleImputer\n",
    "from sklearn.feature_extraction.text import TfidfVectorizer, CountVectorizer\n",
    "from catboost import CatBoostClassifier\n",
    "from sklearn.tree import DecisionTreeClassifier\n",
    "from sklearn.ensemble import RandomForestClassifier\n",
    "from sklearn.multiclass import OneVsRestClassifier\n",
    "\n",
    "\n",
    "# Пайплайн\n",
    "pl = Pipeline([\n",
    "    ('union', FeatureUnion(\n",
    "        # Объединяем подготовленные данные в спарс вектор\n",
    "        transformer_list=[\n",
    "\n",
    "            # Подготоваливаем текстовую часть данных\n",
    "            ('text_features', Pipeline([\n",
    "                # Выбрали только текстовые столбцы\n",
    "                ('text_selector', FunctionTransformer(get_text_data_func, validate=False)),\n",
    "                # Запустили прогрессбар\n",
    "                ('text_pbar_start', FunctionTransformer(start_text_pbar, validate=False)),\n",
    "                # создали спарс матрицу по словам(токенам)\n",
    "                ('vectorizer', CountVectorizer(\n",
    "                    tokenizer=StemTokenizer(),\n",
    "                    # tokenizer=LemmaTokenizer(), # -результат хуже и не пиклится\n",
    "                    **model_params['vectorizer'],\n",
    "                                               )\n",
    "                 ),\n",
    "                # Всего уникальных слов ~ 88_000 (4 и более символа)\n",
    "                # токенов со стэмером ~ 52_000 (экономия 40%)\n",
    "                #\n",
    "                # убили прогресс бар\n",
    "                ('text_pbar_shut', FunctionTransformer(shut_text_pbar, validate=False)),\n",
    "            ])),\n",
    "\n",
    "            # Ухудшает прогноз...\n",
    "            # Подготоваливаем цифровую часть данных\n",
    "            # ('numeric_features', Pipeline([\n",
    "            #     # Запустили прогрессбар\n",
    "            #     ('num_pbar_start', FunctionTransformer(start_num_pbar, validate=False)),\n",
    "            #     # Выбрали только числовые столбцы\n",
    "            #     ('num_selector', FunctionTransformer(get_numeric_data_func, validate=False)),\n",
    "            #     # убили прогрессбар\n",
    "            #     ('num_pbar_shut', FunctionTransformer(shut_num_pbar, validate=False)),\n",
    "            #     # подготовка, проверка числовых данных\n",
    "            #     ('imputer', SimpleImputer())\n",
    "            # ])),\n",
    "        ]\n",
    "    )),\n",
    "    # Сама модель\n",
    "    # \"\"\"\n",
    "    # Используем OneVsRestClassifier. Внутри идет итератор по каждому столбцу таргета...     \n",
    "    # В текущем случае, мы имеем полный список \"негативов\" для всей модели. \n",
    "    # Но мы теряем, в своей метрике.\n",
    "    # Не получится вытащить id столбца на этапе валидации... модель учится в отдельном пуле.\n",
    "    # Также нет прогрессбара... :(\n",
    "    # \"\"\"\n",
    "    ('clf', OneVsRestClassifier(DecisionTreeClassifier(**model_params['tree']))), #  0,92 топ\n",
    "    # ('clf', OneVsRestClassifier(RandomForestClassifier(**model_params['r_forest']))),  # меньше точность 0,85\n",
    "    # (\"catboost\", OneVsRestClassifier(\n",
    "    #     estimator=CatBoostClassifier(**model_params['catboost']\n",
    "    #         )\n",
    "    #     )\n",
    "    # )  # Катбуст тут не взлетел вообще. ~ 0.8 точность.\n",
    "],\n",
    "verbose=True)"
   ]
  },
  {
   "cell_type": "code",
   "execution_count": 39,
   "metadata": {
    "pycharm": {
     "name": "#%%\n"
    }
   },
   "outputs": [
    {
     "name": "stdout",
     "output_type": "stream",
     "text": [
      "в обучении будем использовать 1477 категорий\n"
     ]
    }
   ],
   "source": [
    "# Матчинг - это задача классификации\n",
    "# к таргетам добавляются специальные негативные метки (категории в которые id не входит)\n",
    "\n",
    "# Предвидя проблему взрыва размерности, \n",
    "# добавлением новых строк и хранением одних и техже описаний товара текстом.\n",
    "\n",
    "# я решил идти по пути OVR (OneVsRest) -- мы по сути вместо одной большой МОДЕЛИ,\n",
    "# будем иметь 1477 маленьких моделей на каждый класс (бинарную колонку)\n",
    "\n",
    "# Немного экономим в вычислениях.\n",
    "# у нас в трейн сете размечено 1477 из 3327 категорий (экономия ~ 44%)\n",
    "# поэтому бинаризацию категорий будем и делать по той разметке, что есть...\n",
    "train_catalogs = set()\n",
    "for cat in train['category_id']:\n",
    "    train_catalogs.update(set(all_predcestors(DG, cat)))\n",
    "train_catalogs.remove(-1)\n",
    "train_catalogs = sorted(list(train_catalogs))\n",
    "\n",
    "train_cat2id = {}\n",
    "for i, cat in enumerate(train_catalogs):\n",
    "    train_cat2id[cat] = i\n",
    "\n",
    "catalog_cnt = len(train_catalogs)\n",
    "print(f'в обучении будем использовать {catalog_cnt} категорий')"
   ]
  },
  {
   "cell_type": "code",
   "execution_count": 41,
   "metadata": {
    "pycharm": {
     "name": "#%%\n"
    }
   },
   "outputs": [],
   "source": [
    "# Дробим датасет на трейн и тест + \"бинаризуем\"\n",
    "from sklearn.model_selection import train_test_split\n",
    "\n",
    "# train = train[:100]\n",
    "_train, _val = train_test_split(train, **model_params['random_split'])\n",
    "\n",
    "X_train = _train[model_params['text'] + model_params['numeric']]\n",
    "y_train = _train[model_params['labels']]\n",
    "\n",
    "y_train_dummified = dummify_labels(y_train, model_params['labels'], train_cat2id, train_catalogs)\n",
    "\n",
    "\n",
    "X_val = _val[model_params['text'] + model_params['numeric']]\n",
    "y_val = _val[model_params['labels']]\n",
    "\n",
    "y_val_dummified = dummify_labels(y_val, model_params['labels'], train_cat2id, train_catalogs)"
   ]
  },
  {
   "cell_type": "code",
   "execution_count": 42,
   "metadata": {
    "pycharm": {
     "name": "#%%\n"
    }
   },
   "outputs": [
    {
     "name": "stderr",
     "output_type": "stream",
     "text": [
      "Text processing: 100%|██████████| 212589/212589 [01:39<00:00, 2141.23it/s]\n"
     ]
    },
    {
     "name": "stdout",
     "output_type": "stream",
     "text": [
      "[Pipeline] ............. (step 1 of 2) Processing union, total= 1.7min\n",
      "[Pipeline] ............... (step 2 of 2) Processing clf, total=14.9min\n"
     ]
    },
    {
     "data": {
      "text/plain": [
       "Pipeline(steps=[('union',\n",
       "                 FeatureUnion(transformer_list=[('text_features',\n",
       "                                                 Pipeline(steps=[('text_selector',\n",
       "                                                                  FunctionTransformer(func=<function get_text_data_func at 0x7f23ff458550>)),\n",
       "                                                                 ('text_pbar_start',\n",
       "                                                                  FunctionTransformer(func=<function start_text_pbar at 0x7f23ff007ee0>)),\n",
       "                                                                 ('vectorizer',\n",
       "                                                                  CountVectorizer(max_features=90000,\n",
       "                                                                                  ngram_range=(1,\n",
       "                                                                                               2),\n",
       "                                                                                  tokenizer=<__main__.StemTokenizer object at 0x7f23a1bfffd0>)),\n",
       "                                                                 ('text_pbar_shut',\n",
       "                                                                  FunctionTransformer(func=<function shut_text_pbar at 0x7f23a8d5c670>))]))])),\n",
       "                ('clf',\n",
       "                 OneVsRestClassifier(estimator=DecisionTreeClassifier(criterion='entropy',\n",
       "                                                                      max_depth=8,\n",
       "                                                                      random_state=262898)))],\n",
       "         verbose=True)"
      ]
     },
     "execution_count": 42,
     "metadata": {},
     "output_type": "execute_result"
    }
   ],
   "source": [
    "# 1477 категорий\n",
    "# ETA ~28.0min...\n",
    "pl.fit(X=X_train,\n",
    "       y=y_train_dummified\n",
    "       )"
   ]
  },
  {
   "cell_type": "code",
   "execution_count": 43,
   "metadata": {
    "pycharm": {
     "name": "#%%\n"
    }
   },
   "outputs": [
    {
     "name": "stderr",
     "output_type": "stream",
     "text": [
      "Text processing: 100%|██████████| 70863/70863 [00:32<00:00, 2166.27it/s]\n"
     ]
    }
   ],
   "source": [
    "# ETA ~9.0min...\n",
    "result = pl.predict_proba(X=X_val)"
   ]
  },
  {
   "cell_type": "code",
   "execution_count": 44,
   "metadata": {
    "pycharm": {
     "name": "#%%\n"
    }
   },
   "outputs": [],
   "source": [
    "# сохраняем результаты обучения\n",
    "from joblib import dump\n",
    "dump(pl, 'pl.pkl')\n",
    "dump(DG, 'DG.pkl')\n",
    "dump(model_params, 'model_params.pkl')\n",
    "dump(catalogs, 'catalogs.pkl')\n",
    "dump(cat2id, 'cat2id.pkl')\n",
    "dump(train_catalogs, 'train_catalogs.pkl')\n",
    "dump(train_cat2id, 'train_cat2id.pkl')\n",
    "# dump(X_val, 'X_val.pkl')\n",
    "# dump(y_val, 'y_val.pkl')\n",
    "# dump(result, 'result.pkl')"
   ]
  },
  {
   "cell_type": "code",
   "execution_count": 45,
   "metadata": {
    "pycharm": {
     "name": "#%%\n"
    }
   },
   "outputs": [],
   "source": [
    "# загружаем результаты обучения\n",
    "from joblib import load\n",
    "# pl = load('pl.pkl')\n",
    "\n",
    "# DG = load('DG.pkl')\n",
    "# model_params = load('model_params.pkl')\n",
    "# catalogs = load('catalogs.pkl')\n",
    "# cat2id = load('cat2id.pkl')\n",
    "# train_catalogs = load('train_catalogs.pkl')\n",
    "# train_cat2id = load('train_cat2id.pkl')\n",
    "# X_val = load('X_val.pkl')\n",
    "# y_val = load('y_val.pkl')\n",
    "# result = load('result.pkl')"
   ]
  },
  {
   "cell_type": "code",
   "execution_count": 46,
   "metadata": {
    "pycharm": {
     "name": "#%%\n"
    }
   },
   "outputs": [],
   "source": [
    "result = pd.DataFrame(result, index=X_val.index, columns=train_catalogs)\n",
    "result = undummify_labels(result, model_params['labels'], train_catalogs)"
   ]
  },
  {
   "cell_type": "code",
   "execution_count": 47,
   "metadata": {
    "pycharm": {
     "name": "#%%\n"
    }
   },
   "outputs": [],
   "source": [
    "categories_maper = {}\n",
    "for v in categories_tree.values:\n",
    "    categories_maper[v[0]] = v[1]\n",
    "\n",
    "compare_view = X_val.copy()\n",
    "compare_view[model_params['labels'][0]] = result[model_params['labels'][0]]\n",
    "compare_view['decriprion'] = compare_view[model_params['labels'][0]].map(categories_maper)\n"
   ]
  },
  {
   "cell_type": "code",
   "execution_count": 48,
   "metadata": {
    "pycharm": {
     "name": "#%%\n"
    }
   },
   "outputs": [
    {
     "data": {
      "text/html": [
       "<div>\n",
       "<style scoped>\n",
       "    .dataframe tbody tr th:only-of-type {\n",
       "        vertical-align: middle;\n",
       "    }\n",
       "\n",
       "    .dataframe tbody tr th {\n",
       "        vertical-align: top;\n",
       "    }\n",
       "\n",
       "    .dataframe thead th {\n",
       "        text-align: right;\n",
       "    }\n",
       "</style>\n",
       "<table border=\"1\" class=\"dataframe\">\n",
       "  <thead>\n",
       "    <tr style=\"text-align: right;\">\n",
       "      <th></th>\n",
       "      <th>title</th>\n",
       "      <th>short_description</th>\n",
       "      <th>name_value_characteristics</th>\n",
       "      <th>rating</th>\n",
       "      <th>category_id</th>\n",
       "      <th>decriprion</th>\n",
       "    </tr>\n",
       "  </thead>\n",
       "  <tbody>\n",
       "    <tr>\n",
       "      <th>227003</th>\n",
       "      <td>Полка для ванной прямая//33*12,5*21 см/цвет бе...</td>\n",
       "      <td>None</td>\n",
       "      <td>None</td>\n",
       "      <td>5.000000</td>\n",
       "      <td>14149</td>\n",
       "      <td>Полки кухонные</td>\n",
       "    </tr>\n",
       "    <tr>\n",
       "      <th>103058</th>\n",
       "      <td>Гель лак LuckyLak Milky Way №01 8g</td>\n",
       "      <td>Не течет и хорошо самовыравнивается. Время пол...</td>\n",
       "      <td>None</td>\n",
       "      <td>4.753846</td>\n",
       "      <td>13995</td>\n",
       "      <td>Гель-лаки</td>\n",
       "    </tr>\n",
       "    <tr>\n",
       "      <th>136277</th>\n",
       "      <td>Набор из 5 браслетов \"Мост\" с жемчугом, зеленый</td>\n",
       "      <td>None</td>\n",
       "      <td>None</td>\n",
       "      <td>0.000000</td>\n",
       "      <td>11574</td>\n",
       "      <td>Браслеты</td>\n",
       "    </tr>\n",
       "    <tr>\n",
       "      <th>143617</th>\n",
       "      <td>Новогодние салфетки бумажные  24х24 с рисунком...</td>\n",
       "      <td>None</td>\n",
       "      <td>None</td>\n",
       "      <td>0.000000</td>\n",
       "      <td>12730</td>\n",
       "      <td>Праздничный декор</td>\n",
       "    </tr>\n",
       "    <tr>\n",
       "      <th>273256</th>\n",
       "      <td>Воздушный шар \"ЛОЛ\", 70 см</td>\n",
       "      <td>None</td>\n",
       "      <td>None</td>\n",
       "      <td>0.000000</td>\n",
       "      <td>12604</td>\n",
       "      <td>Воздушные шары и аксессуары</td>\n",
       "    </tr>\n",
       "    <tr>\n",
       "      <th>104318</th>\n",
       "      <td>Для специй. Бокс для хранения специй</td>\n",
       "      <td>None</td>\n",
       "      <td>None</td>\n",
       "      <td>0.000000</td>\n",
       "      <td>13901</td>\n",
       "      <td>Емкости для специй и мельницы</td>\n",
       "    </tr>\n",
       "    <tr>\n",
       "      <th>55819</th>\n",
       "      <td>Карандаш для бровей Maybelline New York \"Brow ...</td>\n",
       "      <td>Карандаш для бровей \"Brow Ultra Slim\", каранда...</td>\n",
       "      <td>None</td>\n",
       "      <td>5.000000</td>\n",
       "      <td>14075</td>\n",
       "      <td>Карандаши для бровей</td>\n",
       "    </tr>\n",
       "    <tr>\n",
       "      <th>65014</th>\n",
       "      <td>Парик \"Принцесса блондинка\"</td>\n",
       "      <td>None</td>\n",
       "      <td>None</td>\n",
       "      <td>0.000000</td>\n",
       "      <td>2750</td>\n",
       "      <td>Парики и аксессуары</td>\n",
       "    </tr>\n",
       "    <tr>\n",
       "      <th>78302</th>\n",
       "      <td>Кабель AUX Разветвитель такневый металлический...</td>\n",
       "      <td>None</td>\n",
       "      <td>None</td>\n",
       "      <td>4.600000</td>\n",
       "      <td>12602</td>\n",
       "      <td>Разветвители</td>\n",
       "    </tr>\n",
       "    <tr>\n",
       "      <th>58674</th>\n",
       "      <td>ECO Organic greek figs Очищающий скраб для тел...</td>\n",
       "      <td>None</td>\n",
       "      <td>None</td>\n",
       "      <td>0.000000</td>\n",
       "      <td>12330</td>\n",
       "      <td>Скрабы и пилинги</td>\n",
       "    </tr>\n",
       "    <tr>\n",
       "      <th>61099</th>\n",
       "      <td>Кабель зарядный Maimi X26 зарядный Type-C</td>\n",
       "      <td>Длина - 1м</td>\n",
       "      <td>None</td>\n",
       "      <td>0.000000</td>\n",
       "      <td>12171</td>\n",
       "      <td>Кабели</td>\n",
       "    </tr>\n",
       "    <tr>\n",
       "      <th>247579</th>\n",
       "      <td>Набор маленьких силиконовых резинок в банке, 5...</td>\n",
       "      <td>Набор силиконовых резинок 500штук</td>\n",
       "      <td>None</td>\n",
       "      <td>0.000000</td>\n",
       "      <td>12751</td>\n",
       "      <td>Резинки</td>\n",
       "    </tr>\n",
       "    <tr>\n",
       "      <th>803</th>\n",
       "      <td>Твердый шампунь с маслом лавра СВЕЖЕСТЬ НАДОЛГ...</td>\n",
       "      <td>Шампунь подходит для чувствительной кожи головы</td>\n",
       "      <td>None</td>\n",
       "      <td>0.000000</td>\n",
       "      <td>14028</td>\n",
       "      <td>Сухие и твердые шампуни</td>\n",
       "    </tr>\n",
       "    <tr>\n",
       "      <th>236685</th>\n",
       "      <td>Двойная зарядная док-станция DOBE  для Play St...</td>\n",
       "      <td>Двойная зарядная док-станция для серии PS4 TP4...</td>\n",
       "      <td>None</td>\n",
       "      <td>4.941176</td>\n",
       "      <td>11827</td>\n",
       "      <td>Аксессуары для игровых контроллеров</td>\n",
       "    </tr>\n",
       "    <tr>\n",
       "      <th>257338</th>\n",
       "      <td>Набор для специй</td>\n",
       "      <td>набор для специй</td>\n",
       "      <td>None</td>\n",
       "      <td>0.000000</td>\n",
       "      <td>13901</td>\n",
       "      <td>Емкости для специй и мельницы</td>\n",
       "    </tr>\n",
       "    <tr>\n",
       "      <th>74331</th>\n",
       "      <td>Держатель-органайзер (8 полок) для крышек, ско...</td>\n",
       "      <td>Подставка-стойка служит великолепным решением ...</td>\n",
       "      <td>Количество ярусов:4 яруса|5 ярусов|8 ярусов</td>\n",
       "      <td>5.000000</td>\n",
       "      <td>12082</td>\n",
       "      <td>Подставки и держатели</td>\n",
       "    </tr>\n",
       "    <tr>\n",
       "      <th>118856</th>\n",
       "      <td>Искусственные растения Камыш с напылением</td>\n",
       "      <td>None</td>\n",
       "      <td>None</td>\n",
       "      <td>0.000000</td>\n",
       "      <td>13835</td>\n",
       "      <td>Искусственные цветы</td>\n",
       "    </tr>\n",
       "    <tr>\n",
       "      <th>37735</th>\n",
       "      <td>Бирки для ключей, 12 штук, 50 мм</td>\n",
       "      <td>Бирки для ключей</td>\n",
       "      <td>None</td>\n",
       "      <td>5.000000</td>\n",
       "      <td>12210</td>\n",
       "      <td>Упаковочная бумага, бирки и ленты</td>\n",
       "    </tr>\n",
       "    <tr>\n",
       "      <th>280095</th>\n",
       "      <td>Косынка для женщин \"Fishka\"</td>\n",
       "      <td>None</td>\n",
       "      <td>Размер:162 х 48</td>\n",
       "      <td>0.000000</td>\n",
       "      <td>12391</td>\n",
       "      <td>Косынки</td>\n",
       "    </tr>\n",
       "    <tr>\n",
       "      <th>221736</th>\n",
       "      <td>Кабель для зарядки Micro-usb 1м 2м 3м в тканев...</td>\n",
       "      <td>Кабель для быстрой зарядки Micro-usb в тканево...</td>\n",
       "      <td>Длина:1 метр|2 метра|3 метра</td>\n",
       "      <td>5.000000</td>\n",
       "      <td>12171</td>\n",
       "      <td>Кабели</td>\n",
       "    </tr>\n",
       "  </tbody>\n",
       "</table>\n",
       "</div>"
      ],
      "text/plain": [
       "                                                    title  \\\n",
       "227003  Полка для ванной прямая//33*12,5*21 см/цвет бе...   \n",
       "103058                 Гель лак LuckyLak Milky Way №01 8g   \n",
       "136277    Набор из 5 браслетов \"Мост\" с жемчугом, зеленый   \n",
       "143617  Новогодние салфетки бумажные  24х24 с рисунком...   \n",
       "273256                         Воздушный шар \"ЛОЛ\", 70 см   \n",
       "104318               Для специй. Бокс для хранения специй   \n",
       "55819   Карандаш для бровей Maybelline New York \"Brow ...   \n",
       "65014                         Парик \"Принцесса блондинка\"   \n",
       "78302   Кабель AUX Разветвитель такневый металлический...   \n",
       "58674   ECO Organic greek figs Очищающий скраб для тел...   \n",
       "61099           Кабель зарядный Maimi X26 зарядный Type-C   \n",
       "247579  Набор маленьких силиконовых резинок в банке, 5...   \n",
       "803     Твердый шампунь с маслом лавра СВЕЖЕСТЬ НАДОЛГ...   \n",
       "236685  Двойная зарядная док-станция DOBE  для Play St...   \n",
       "257338                                   Набор для специй   \n",
       "74331   Держатель-органайзер (8 полок) для крышек, ско...   \n",
       "118856          Искусственные растения Камыш с напылением   \n",
       "37735                    Бирки для ключей, 12 штук, 50 мм   \n",
       "280095                        Косынка для женщин \"Fishka\"   \n",
       "221736  Кабель для зарядки Micro-usb 1м 2м 3м в тканев...   \n",
       "\n",
       "                                        short_description  \\\n",
       "227003                                               None   \n",
       "103058  Не течет и хорошо самовыравнивается. Время пол...   \n",
       "136277                                               None   \n",
       "143617                                               None   \n",
       "273256                                               None   \n",
       "104318                                               None   \n",
       "55819   Карандаш для бровей \"Brow Ultra Slim\", каранда...   \n",
       "65014                                                None   \n",
       "78302                                                None   \n",
       "58674                                                None   \n",
       "61099                                          Длина - 1м   \n",
       "247579                  Набор силиконовых резинок 500штук   \n",
       "803       Шампунь подходит для чувствительной кожи головы   \n",
       "236685  Двойная зарядная док-станция для серии PS4 TP4...   \n",
       "257338                                   набор для специй   \n",
       "74331   Подставка-стойка служит великолепным решением ...   \n",
       "118856                                               None   \n",
       "37735                                    Бирки для ключей   \n",
       "280095                                               None   \n",
       "221736  Кабель для быстрой зарядки Micro-usb в тканево...   \n",
       "\n",
       "                         name_value_characteristics    rating  category_id  \\\n",
       "227003                                         None  5.000000        14149   \n",
       "103058                                         None  4.753846        13995   \n",
       "136277                                         None  0.000000        11574   \n",
       "143617                                         None  0.000000        12730   \n",
       "273256                                         None  0.000000        12604   \n",
       "104318                                         None  0.000000        13901   \n",
       "55819                                          None  5.000000        14075   \n",
       "65014                                          None  0.000000         2750   \n",
       "78302                                          None  4.600000        12602   \n",
       "58674                                          None  0.000000        12330   \n",
       "61099                                          None  0.000000        12171   \n",
       "247579                                         None  0.000000        12751   \n",
       "803                                            None  0.000000        14028   \n",
       "236685                                         None  4.941176        11827   \n",
       "257338                                         None  0.000000        13901   \n",
       "74331   Количество ярусов:4 яруса|5 ярусов|8 ярусов  5.000000        12082   \n",
       "118856                                         None  0.000000        13835   \n",
       "37735                                          None  5.000000        12210   \n",
       "280095                              Размер:162 х 48  0.000000        12391   \n",
       "221736                 Длина:1 метр|2 метра|3 метра  5.000000        12171   \n",
       "\n",
       "                                 decriprion  \n",
       "227003                       Полки кухонные  \n",
       "103058                            Гель-лаки  \n",
       "136277                             Браслеты  \n",
       "143617                    Праздничный декор  \n",
       "273256          Воздушные шары и аксессуары  \n",
       "104318        Емкости для специй и мельницы  \n",
       "55819                  Карандаши для бровей  \n",
       "65014                   Парики и аксессуары  \n",
       "78302                          Разветвители  \n",
       "58674                      Скрабы и пилинги  \n",
       "61099                                Кабели  \n",
       "247579                              Резинки  \n",
       "803                 Сухие и твердые шампуни  \n",
       "236685  Аксессуары для игровых контроллеров  \n",
       "257338        Емкости для специй и мельницы  \n",
       "74331                 Подставки и держатели  \n",
       "118856                  Искусственные цветы  \n",
       "37735     Упаковочная бумага, бирки и ленты  \n",
       "280095                              Косынки  \n",
       "221736                               Кабели  "
      ]
     },
     "execution_count": 48,
     "metadata": {},
     "output_type": "execute_result"
    }
   ],
   "source": [
    "compare_view.sample(20)"
   ]
  },
  {
   "cell_type": "code",
   "execution_count": 49,
   "metadata": {
    "pycharm": {
     "name": "#%%\n"
    }
   },
   "outputs": [
    {
     "name": "stdout",
     "output_type": "stream",
     "text": [
      "h_fbeta_score:  0.9207586205241317\n"
     ]
    }
   ],
   "source": [
    "# Оцениваем\n",
    "from hF import h_fbeta_score\n",
    "\n",
    "result[model_params['labels'][0]] = result[model_params['labels'][0]].apply(lambda x: x if x in train_cat2id.keys() else 0)\n",
    "_result_dummified = _dummify_labels(result, model_params['labels'], cat2id, catalogs)\n",
    "_target_dummified = _dummify_labels(y_val, model_params['labels'], cat2id, catalogs)\n",
    "\n",
    "\n",
    "h_fbeta = h_fbeta_score(_target_dummified, _result_dummified)\n",
    "\n",
    "print(\"h_fbeta_score: \", h_fbeta)"
   ]
  },
  {
   "cell_type": "code",
   "execution_count": 50,
   "metadata": {
    "pycharm": {
     "name": "#%%\n"
    }
   },
   "outputs": [
    {
     "data": {
      "text/plain": [
       "['920758_model_params.plk']"
      ]
     },
     "execution_count": 50,
     "metadata": {},
     "output_type": "execute_result"
    }
   ],
   "source": [
    "dump(pl, '{0}_pl.pkl'.format(int(h_fbeta*1_000_000)))\n",
    "dump(model_params, '{0}_model_params.pkl'.format(int(h_fbeta*1_000_000)))"
   ]
  },
  {
   "cell_type": "raw",
   "metadata": {
    "pycharm": {
     "name": "#%% raw\n"
    }
   },
   "source": [
    "h_fbeta_score:  0.9207586205241317\n",
    "\n",
    "{'text': ['title', 'short_description', 'name_value_characteristics'],\n",
    " 'numeric': ['rating'],\n",
    " 'labels': ['category_id'],\n",
    " 'random_split': {'test_size': 0.25, 'random_state': 42},\n",
    " 't_min_len': 2,\n",
    " 'vectorizer': {'ngram_range': (1, 2), 'max_features': 90000},\n",
    " 'hist_bin_edges': [0.0,\n",
    "  0.8333333333333334,\n",
    "  1.6666666666666667,\n",
    "  2.5,\n",
    "  3.3333333333333335,\n",
    "  4.166666666666667,\n",
    "  5.0],\n",
    " 'tree': {'criterion': 'entropy', 'max_depth': 8, 'random_state': 262898}}"
   ]
  },
  {
   "cell_type": "raw",
   "metadata": {
    "pycharm": {
     "name": "#%% raw\n"
    }
   },
   "source": []
  },
  {
   "cell_type": "code",
   "execution_count": 51,
   "metadata": {
    "pycharm": {
     "name": "#%%\n"
    }
   },
   "outputs": [
    {
     "data": {
      "text/plain": [
       "{'text': ['title', 'short_description', 'name_value_characteristics'],\n",
       " 'numeric': ['rating'],\n",
       " 'labels': ['category_id'],\n",
       " 'random_split': {'test_size': 0.25, 'random_state': 42},\n",
       " 't_min_len': 2,\n",
       " 'vectorizer': {'ngram_range': (1, 2), 'max_features': 90000},\n",
       " 'hist_bin_edges': [0.0,\n",
       "  0.8333333333333334,\n",
       "  1.6666666666666667,\n",
       "  2.5,\n",
       "  3.3333333333333335,\n",
       "  4.166666666666667,\n",
       "  5.0],\n",
       " 'tree': {'criterion': 'entropy', 'max_depth': 8, 'random_state': 262898}}"
      ]
     },
     "execution_count": 51,
     "metadata": {},
     "output_type": "execute_result"
    }
   ],
   "source": [
    "model_params"
   ]
  },
  {
   "cell_type": "code",
   "execution_count": 52,
   "metadata": {
    "pycharm": {
     "name": "#%%\n"
    }
   },
   "outputs": [],
   "source": [
    "exit(0)"
   ]
  }
 ],
 "metadata": {
  "kernelspec": {
   "display_name": "Python 3",
   "language": "python",
   "name": "python3"
  },
  "language_info": {
   "codemirror_mode": {
    "name": "ipython",
    "version": 3
   },
   "file_extension": ".py",
   "mimetype": "text/x-python",
   "name": "python",
   "nbconvert_exporter": "python",
   "pygments_lexer": "ipython3",
   "version": "3.9.12"
  },
  "varInspector": {
   "cols": {
    "lenName": 16,
    "lenType": 16,
    "lenVar": 40
   },
   "kernels_config": {
    "python": {
     "delete_cmd_postfix": "",
     "delete_cmd_prefix": "del ",
     "library": "var_list.py",
     "varRefreshCmd": "print(var_dic_list())"
    },
    "r": {
     "delete_cmd_postfix": ") ",
     "delete_cmd_prefix": "rm(",
     "library": "var_list.r",
     "varRefreshCmd": "cat(var_dic_list()) "
    }
   },
   "types_to_exclude": [
    "module",
    "function",
    "builtin_function_or_method",
    "instance",
    "_Feature"
   ],
   "window_display": false
  }
 },
 "nbformat": 4,
 "nbformat_minor": 1
}
